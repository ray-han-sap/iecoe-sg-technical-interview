{
 "cells": [
  {
   "cell_type": "markdown",
   "metadata": {},
   "source": [
    "# Importing libraries and reading in of data "
   ]
  },
  {
   "cell_type": "code",
   "execution_count": 353,
   "metadata": {},
   "outputs": [],
   "source": [
    "import numpy as np\n",
    "import pandas as pd\n",
    "import re\n",
    "import string\n",
    "import nltk \n",
    "import tensorflow as tf\n",
    "import matplotlib.pyplot as plt \n",
    "from nltk.stem import WordNetLemmatizer\n",
    "from nltk.corpus import stopwords\n",
    "from tensorflow.keras.models import Sequential\n",
    "from tensorflow.keras.layers import Dense, Dropout, Activation, Flatten, Embedding, BatchNormalization\n",
    "from tensorflow.keras.layers import Conv1D, LSTM, GlobalMaxPool1D, LSTM, Bidirectional\n",
    "from tensorflow import keras\n",
    "from keras.preprocessing.text import one_hot\n",
    "from keras.preprocessing.sequence import pad_sequences\n",
    "from sklearn.model_selection import train_test_split\n",
    "from sklearn.metrics import classification_report, accuracy_score\n",
    "\n",
    "true_df = pd.read_csv(\"True.csv\")\n",
    "fake_df = pd.read_csv(\"Fake.csv\")"
   ]
  },
  {
   "cell_type": "code",
   "execution_count": 354,
   "metadata": {},
   "outputs": [
    {
     "data": {
      "text/html": [
       "<div>\n",
       "<style scoped>\n",
       "    .dataframe tbody tr th:only-of-type {\n",
       "        vertical-align: middle;\n",
       "    }\n",
       "\n",
       "    .dataframe tbody tr th {\n",
       "        vertical-align: top;\n",
       "    }\n",
       "\n",
       "    .dataframe thead th {\n",
       "        text-align: right;\n",
       "    }\n",
       "</style>\n",
       "<table border=\"1\" class=\"dataframe\">\n",
       "  <thead>\n",
       "    <tr style=\"text-align: right;\">\n",
       "      <th></th>\n",
       "      <th>title</th>\n",
       "      <th>text</th>\n",
       "      <th>subject</th>\n",
       "      <th>date</th>\n",
       "    </tr>\n",
       "  </thead>\n",
       "  <tbody>\n",
       "    <tr>\n",
       "      <th>0</th>\n",
       "      <td>As U.S. budget fight looms, Republicans flip t...</td>\n",
       "      <td>WASHINGTON (Reuters) - The head of a conservat...</td>\n",
       "      <td>politicsNews</td>\n",
       "      <td>December 31, 2017</td>\n",
       "    </tr>\n",
       "    <tr>\n",
       "      <th>1</th>\n",
       "      <td>U.S. military to accept transgender recruits o...</td>\n",
       "      <td>WASHINGTON (Reuters) - Transgender people will...</td>\n",
       "      <td>politicsNews</td>\n",
       "      <td>December 29, 2017</td>\n",
       "    </tr>\n",
       "    <tr>\n",
       "      <th>2</th>\n",
       "      <td>Senior U.S. Republican senator: 'Let Mr. Muell...</td>\n",
       "      <td>WASHINGTON (Reuters) - The special counsel inv...</td>\n",
       "      <td>politicsNews</td>\n",
       "      <td>December 31, 2017</td>\n",
       "    </tr>\n",
       "    <tr>\n",
       "      <th>3</th>\n",
       "      <td>FBI Russia probe helped by Australian diplomat...</td>\n",
       "      <td>WASHINGTON (Reuters) - Trump campaign adviser ...</td>\n",
       "      <td>politicsNews</td>\n",
       "      <td>December 30, 2017</td>\n",
       "    </tr>\n",
       "    <tr>\n",
       "      <th>4</th>\n",
       "      <td>Trump wants Postal Service to charge 'much mor...</td>\n",
       "      <td>SEATTLE/WASHINGTON (Reuters) - President Donal...</td>\n",
       "      <td>politicsNews</td>\n",
       "      <td>December 29, 2017</td>\n",
       "    </tr>\n",
       "  </tbody>\n",
       "</table>\n",
       "</div>"
      ],
      "text/plain": [
       "                                               title  \\\n",
       "0  As U.S. budget fight looms, Republicans flip t...   \n",
       "1  U.S. military to accept transgender recruits o...   \n",
       "2  Senior U.S. Republican senator: 'Let Mr. Muell...   \n",
       "3  FBI Russia probe helped by Australian diplomat...   \n",
       "4  Trump wants Postal Service to charge 'much mor...   \n",
       "\n",
       "                                                text       subject  \\\n",
       "0  WASHINGTON (Reuters) - The head of a conservat...  politicsNews   \n",
       "1  WASHINGTON (Reuters) - Transgender people will...  politicsNews   \n",
       "2  WASHINGTON (Reuters) - The special counsel inv...  politicsNews   \n",
       "3  WASHINGTON (Reuters) - Trump campaign adviser ...  politicsNews   \n",
       "4  SEATTLE/WASHINGTON (Reuters) - President Donal...  politicsNews   \n",
       "\n",
       "                 date  \n",
       "0  December 31, 2017   \n",
       "1  December 29, 2017   \n",
       "2  December 31, 2017   \n",
       "3  December 30, 2017   \n",
       "4  December 29, 2017   "
      ]
     },
     "execution_count": 354,
     "metadata": {},
     "output_type": "execute_result"
    }
   ],
   "source": [
    "true_df.head() "
   ]
  },
  {
   "cell_type": "code",
   "execution_count": 355,
   "metadata": {},
   "outputs": [
    {
     "data": {
      "text/html": [
       "<div>\n",
       "<style scoped>\n",
       "    .dataframe tbody tr th:only-of-type {\n",
       "        vertical-align: middle;\n",
       "    }\n",
       "\n",
       "    .dataframe tbody tr th {\n",
       "        vertical-align: top;\n",
       "    }\n",
       "\n",
       "    .dataframe thead th {\n",
       "        text-align: right;\n",
       "    }\n",
       "</style>\n",
       "<table border=\"1\" class=\"dataframe\">\n",
       "  <thead>\n",
       "    <tr style=\"text-align: right;\">\n",
       "      <th></th>\n",
       "      <th>title</th>\n",
       "      <th>text</th>\n",
       "      <th>subject</th>\n",
       "      <th>date</th>\n",
       "    </tr>\n",
       "  </thead>\n",
       "  <tbody>\n",
       "    <tr>\n",
       "      <th>0</th>\n",
       "      <td>Donald Trump Sends Out Embarrassing New Year’...</td>\n",
       "      <td>Donald Trump just couldn t wish all Americans ...</td>\n",
       "      <td>News</td>\n",
       "      <td>December 31, 2017</td>\n",
       "    </tr>\n",
       "    <tr>\n",
       "      <th>1</th>\n",
       "      <td>Drunk Bragging Trump Staffer Started Russian ...</td>\n",
       "      <td>House Intelligence Committee Chairman Devin Nu...</td>\n",
       "      <td>News</td>\n",
       "      <td>December 31, 2017</td>\n",
       "    </tr>\n",
       "    <tr>\n",
       "      <th>2</th>\n",
       "      <td>Sheriff David Clarke Becomes An Internet Joke...</td>\n",
       "      <td>On Friday, it was revealed that former Milwauk...</td>\n",
       "      <td>News</td>\n",
       "      <td>December 30, 2017</td>\n",
       "    </tr>\n",
       "    <tr>\n",
       "      <th>3</th>\n",
       "      <td>Trump Is So Obsessed He Even Has Obama’s Name...</td>\n",
       "      <td>On Christmas day, Donald Trump announced that ...</td>\n",
       "      <td>News</td>\n",
       "      <td>December 29, 2017</td>\n",
       "    </tr>\n",
       "    <tr>\n",
       "      <th>4</th>\n",
       "      <td>Pope Francis Just Called Out Donald Trump Dur...</td>\n",
       "      <td>Pope Francis used his annual Christmas Day mes...</td>\n",
       "      <td>News</td>\n",
       "      <td>December 25, 2017</td>\n",
       "    </tr>\n",
       "  </tbody>\n",
       "</table>\n",
       "</div>"
      ],
      "text/plain": [
       "                                               title  \\\n",
       "0   Donald Trump Sends Out Embarrassing New Year’...   \n",
       "1   Drunk Bragging Trump Staffer Started Russian ...   \n",
       "2   Sheriff David Clarke Becomes An Internet Joke...   \n",
       "3   Trump Is So Obsessed He Even Has Obama’s Name...   \n",
       "4   Pope Francis Just Called Out Donald Trump Dur...   \n",
       "\n",
       "                                                text subject  \\\n",
       "0  Donald Trump just couldn t wish all Americans ...    News   \n",
       "1  House Intelligence Committee Chairman Devin Nu...    News   \n",
       "2  On Friday, it was revealed that former Milwauk...    News   \n",
       "3  On Christmas day, Donald Trump announced that ...    News   \n",
       "4  Pope Francis used his annual Christmas Day mes...    News   \n",
       "\n",
       "                date  \n",
       "0  December 31, 2017  \n",
       "1  December 31, 2017  \n",
       "2  December 30, 2017  \n",
       "3  December 29, 2017  \n",
       "4  December 25, 2017  "
      ]
     },
     "execution_count": 355,
     "metadata": {},
     "output_type": "execute_result"
    }
   ],
   "source": [
    "fake_df.head() "
   ]
  },
  {
   "cell_type": "markdown",
   "metadata": {},
   "source": [
    "Adding integer value labels to the dataset for binary text classification"
   ]
  },
  {
   "cell_type": "code",
   "execution_count": 356,
   "metadata": {},
   "outputs": [],
   "source": [
    "fake_df['label'] = 1\n",
    "true_df['label'] = 0"
   ]
  },
  {
   "cell_type": "code",
   "execution_count": 357,
   "metadata": {},
   "outputs": [
    {
     "data": {
      "text/html": [
       "<div>\n",
       "<style scoped>\n",
       "    .dataframe tbody tr th:only-of-type {\n",
       "        vertical-align: middle;\n",
       "    }\n",
       "\n",
       "    .dataframe tbody tr th {\n",
       "        vertical-align: top;\n",
       "    }\n",
       "\n",
       "    .dataframe thead th {\n",
       "        text-align: right;\n",
       "    }\n",
       "</style>\n",
       "<table border=\"1\" class=\"dataframe\">\n",
       "  <thead>\n",
       "    <tr style=\"text-align: right;\">\n",
       "      <th></th>\n",
       "      <th>title</th>\n",
       "      <th>text</th>\n",
       "      <th>subject</th>\n",
       "      <th>date</th>\n",
       "      <th>label</th>\n",
       "    </tr>\n",
       "  </thead>\n",
       "  <tbody>\n",
       "    <tr>\n",
       "      <th>0</th>\n",
       "      <td>Donald Trump Sends Out Embarrassing New Year’...</td>\n",
       "      <td>Donald Trump just couldn t wish all Americans ...</td>\n",
       "      <td>News</td>\n",
       "      <td>December 31, 2017</td>\n",
       "      <td>1</td>\n",
       "    </tr>\n",
       "    <tr>\n",
       "      <th>1</th>\n",
       "      <td>Drunk Bragging Trump Staffer Started Russian ...</td>\n",
       "      <td>House Intelligence Committee Chairman Devin Nu...</td>\n",
       "      <td>News</td>\n",
       "      <td>December 31, 2017</td>\n",
       "      <td>1</td>\n",
       "    </tr>\n",
       "    <tr>\n",
       "      <th>2</th>\n",
       "      <td>Sheriff David Clarke Becomes An Internet Joke...</td>\n",
       "      <td>On Friday, it was revealed that former Milwauk...</td>\n",
       "      <td>News</td>\n",
       "      <td>December 30, 2017</td>\n",
       "      <td>1</td>\n",
       "    </tr>\n",
       "    <tr>\n",
       "      <th>3</th>\n",
       "      <td>Trump Is So Obsessed He Even Has Obama’s Name...</td>\n",
       "      <td>On Christmas day, Donald Trump announced that ...</td>\n",
       "      <td>News</td>\n",
       "      <td>December 29, 2017</td>\n",
       "      <td>1</td>\n",
       "    </tr>\n",
       "    <tr>\n",
       "      <th>4</th>\n",
       "      <td>Pope Francis Just Called Out Donald Trump Dur...</td>\n",
       "      <td>Pope Francis used his annual Christmas Day mes...</td>\n",
       "      <td>News</td>\n",
       "      <td>December 25, 2017</td>\n",
       "      <td>1</td>\n",
       "    </tr>\n",
       "  </tbody>\n",
       "</table>\n",
       "</div>"
      ],
      "text/plain": [
       "                                               title  \\\n",
       "0   Donald Trump Sends Out Embarrassing New Year’...   \n",
       "1   Drunk Bragging Trump Staffer Started Russian ...   \n",
       "2   Sheriff David Clarke Becomes An Internet Joke...   \n",
       "3   Trump Is So Obsessed He Even Has Obama’s Name...   \n",
       "4   Pope Francis Just Called Out Donald Trump Dur...   \n",
       "\n",
       "                                                text subject  \\\n",
       "0  Donald Trump just couldn t wish all Americans ...    News   \n",
       "1  House Intelligence Committee Chairman Devin Nu...    News   \n",
       "2  On Friday, it was revealed that former Milwauk...    News   \n",
       "3  On Christmas day, Donald Trump announced that ...    News   \n",
       "4  Pope Francis used his annual Christmas Day mes...    News   \n",
       "\n",
       "                date  label  \n",
       "0  December 31, 2017      1  \n",
       "1  December 31, 2017      1  \n",
       "2  December 30, 2017      1  \n",
       "3  December 29, 2017      1  \n",
       "4  December 25, 2017      1  "
      ]
     },
     "execution_count": 357,
     "metadata": {},
     "output_type": "execute_result"
    }
   ],
   "source": [
    "fake_df.head() "
   ]
  },
  {
   "cell_type": "markdown",
   "metadata": {},
   "source": [
    "Here I concatenate and shuffle the data so that later on when I split the training and testing data there would be a good mix of both true and fake news data "
   ]
  },
  {
   "cell_type": "code",
   "execution_count": 358,
   "metadata": {},
   "outputs": [
    {
     "data": {
      "text/html": [
       "<div>\n",
       "<style scoped>\n",
       "    .dataframe tbody tr th:only-of-type {\n",
       "        vertical-align: middle;\n",
       "    }\n",
       "\n",
       "    .dataframe tbody tr th {\n",
       "        vertical-align: top;\n",
       "    }\n",
       "\n",
       "    .dataframe thead th {\n",
       "        text-align: right;\n",
       "    }\n",
       "</style>\n",
       "<table border=\"1\" class=\"dataframe\">\n",
       "  <thead>\n",
       "    <tr style=\"text-align: right;\">\n",
       "      <th></th>\n",
       "      <th>title</th>\n",
       "      <th>text</th>\n",
       "      <th>subject</th>\n",
       "      <th>date</th>\n",
       "      <th>label</th>\n",
       "    </tr>\n",
       "  </thead>\n",
       "  <tbody>\n",
       "    <tr>\n",
       "      <th>42942</th>\n",
       "      <td>WHY WOULD OBAMA’S SEND THEIR DAUGHTER TO NYC T...</td>\n",
       "      <td>Malia s internship with pedophile Lena Dunham ...</td>\n",
       "      <td>left-news</td>\n",
       "      <td>Jul 28, 2015</td>\n",
       "      <td>1</td>\n",
       "    </tr>\n",
       "    <tr>\n",
       "      <th>6067</th>\n",
       "      <td>Tillerson gets first briefings at State Depart...</td>\n",
       "      <td>WASHINGTON (Reuters) - U.S. Secretary of State...</td>\n",
       "      <td>politicsNews</td>\n",
       "      <td>January 24, 2017</td>\n",
       "      <td>0</td>\n",
       "    </tr>\n",
       "    <tr>\n",
       "      <th>8511</th>\n",
       "      <td>Trump seeks a campaign reset with Detroit econ...</td>\n",
       "      <td>DETROIT/WASHINGTON (Reuters) - Republican Dona...</td>\n",
       "      <td>politicsNews</td>\n",
       "      <td>August 8, 2016</td>\n",
       "      <td>0</td>\n",
       "    </tr>\n",
       "    <tr>\n",
       "      <th>2323</th>\n",
       "      <td>Russia: Pence Balkans comments expose Washingt...</td>\n",
       "      <td>MOSCOW (Reuters) - Accusations made by U.S. Vi...</td>\n",
       "      <td>politicsNews</td>\n",
       "      <td>August 3, 2017</td>\n",
       "      <td>0</td>\n",
       "    </tr>\n",
       "    <tr>\n",
       "      <th>42027</th>\n",
       "      <td>PRO-HILLARY SAUDI PRINCE JUST Gave Americans A...</td>\n",
       "      <td>It wasn t a direct endorsement of Trump, but w...</td>\n",
       "      <td>left-news</td>\n",
       "      <td>May 7, 2016</td>\n",
       "      <td>1</td>\n",
       "    </tr>\n",
       "    <tr>\n",
       "      <th>...</th>\n",
       "      <td>...</td>\n",
       "      <td>...</td>\n",
       "      <td>...</td>\n",
       "      <td>...</td>\n",
       "      <td>...</td>\n",
       "    </tr>\n",
       "    <tr>\n",
       "      <th>44728</th>\n",
       "      <td>SUNDAY SCREENING: PSYWAR (2010)</td>\n",
       "      <td>21st Century Wire says Our weekly documentary ...</td>\n",
       "      <td>Middle-east</td>\n",
       "      <td>July 3, 2016</td>\n",
       "      <td>1</td>\n",
       "    </tr>\n",
       "    <tr>\n",
       "      <th>6836</th>\n",
       "      <td>Trump to nominate Pruitt to lead U.S. environm...</td>\n",
       "      <td>WASHINGTON (Reuters) - U.S. President-elect Do...</td>\n",
       "      <td>politicsNews</td>\n",
       "      <td>December 8, 2016</td>\n",
       "      <td>0</td>\n",
       "    </tr>\n",
       "    <tr>\n",
       "      <th>351</th>\n",
       "      <td>Trump says encouraging Hatch to run for re-ele...</td>\n",
       "      <td>SALT LAKE CITY (Reuters) - President Donald Tr...</td>\n",
       "      <td>politicsNews</td>\n",
       "      <td>December 4, 2017</td>\n",
       "      <td>0</td>\n",
       "    </tr>\n",
       "    <tr>\n",
       "      <th>729</th>\n",
       "      <td>Democrats ride grassroots wave to major stateh...</td>\n",
       "      <td>(Reuters) - Democrats claimed historic gains i...</td>\n",
       "      <td>politicsNews</td>\n",
       "      <td>November 8, 2017</td>\n",
       "      <td>0</td>\n",
       "    </tr>\n",
       "    <tr>\n",
       "      <th>27463</th>\n",
       "      <td>Trump Responds To Devastating Clinton Attack ...</td>\n",
       "      <td>After former Secretary of State Hillary Clinto...</td>\n",
       "      <td>News</td>\n",
       "      <td>June 3, 2016</td>\n",
       "      <td>1</td>\n",
       "    </tr>\n",
       "  </tbody>\n",
       "</table>\n",
       "<p>44898 rows × 5 columns</p>\n",
       "</div>"
      ],
      "text/plain": [
       "                                                   title  \\\n",
       "42942  WHY WOULD OBAMA’S SEND THEIR DAUGHTER TO NYC T...   \n",
       "6067   Tillerson gets first briefings at State Depart...   \n",
       "8511   Trump seeks a campaign reset with Detroit econ...   \n",
       "2323   Russia: Pence Balkans comments expose Washingt...   \n",
       "42027  PRO-HILLARY SAUDI PRINCE JUST Gave Americans A...   \n",
       "...                                                  ...   \n",
       "44728                    SUNDAY SCREENING: PSYWAR (2010)   \n",
       "6836   Trump to nominate Pruitt to lead U.S. environm...   \n",
       "351    Trump says encouraging Hatch to run for re-ele...   \n",
       "729    Democrats ride grassroots wave to major stateh...   \n",
       "27463   Trump Responds To Devastating Clinton Attack ...   \n",
       "\n",
       "                                                    text       subject  \\\n",
       "42942  Malia s internship with pedophile Lena Dunham ...     left-news   \n",
       "6067   WASHINGTON (Reuters) - U.S. Secretary of State...  politicsNews   \n",
       "8511   DETROIT/WASHINGTON (Reuters) - Republican Dona...  politicsNews   \n",
       "2323   MOSCOW (Reuters) - Accusations made by U.S. Vi...  politicsNews   \n",
       "42027  It wasn t a direct endorsement of Trump, but w...     left-news   \n",
       "...                                                  ...           ...   \n",
       "44728  21st Century Wire says Our weekly documentary ...   Middle-east   \n",
       "6836   WASHINGTON (Reuters) - U.S. President-elect Do...  politicsNews   \n",
       "351    SALT LAKE CITY (Reuters) - President Donald Tr...  politicsNews   \n",
       "729    (Reuters) - Democrats claimed historic gains i...  politicsNews   \n",
       "27463  After former Secretary of State Hillary Clinto...          News   \n",
       "\n",
       "                    date  label  \n",
       "42942       Jul 28, 2015      1  \n",
       "6067   January 24, 2017       0  \n",
       "8511     August 8, 2016       0  \n",
       "2323     August 3, 2017       0  \n",
       "42027        May 7, 2016      1  \n",
       "...                  ...    ...  \n",
       "44728       July 3, 2016      1  \n",
       "6836   December 8, 2016       0  \n",
       "351    December 4, 2017       0  \n",
       "729    November 8, 2017       0  \n",
       "27463       June 3, 2016      1  \n",
       "\n",
       "[44898 rows x 5 columns]"
      ]
     },
     "execution_count": 358,
     "metadata": {},
     "output_type": "execute_result"
    }
   ],
   "source": [
    "total_df = pd.concat([true_df,fake_df], axis=0, ignore_index=True)\n",
    "total_df = total_df.sample(frac=1)\n",
    "total_df"
   ]
  },
  {
   "cell_type": "markdown",
   "metadata": {},
   "source": [
    "Drop columns which I do not require for training "
   ]
  },
  {
   "cell_type": "code",
   "execution_count": 359,
   "metadata": {},
   "outputs": [],
   "source": [
    "y = total_df['label']\n",
    "total_df = total_df.drop(['text', 'subject', 'date', 'label'], axis = 1)"
   ]
  },
  {
   "cell_type": "markdown",
   "metadata": {},
   "source": [
    "# Data Cleaning and Preparation"
   ]
  },
  {
   "cell_type": "code",
   "execution_count": 360,
   "metadata": {},
   "outputs": [],
   "source": [
    "total_list = total_df.values.tolist()\n",
    "total_size = len(total_list)"
   ]
  },
  {
   "cell_type": "markdown",
   "metadata": {},
   "source": [
    "Below are the functions I defined to remove punctuations, special symbols as well as to remove stopwords and lemmatize the words "
   ]
  },
  {
   "cell_type": "code",
   "execution_count": 361,
   "metadata": {},
   "outputs": [],
   "source": [
    "def Punctuation(string): \n",
    "  \n",
    "    # punctuation marks \n",
    "    punctuations = '''!()-[]{};:'\"\\\\,<>./?@#$%^&*_~【】â€‹ÂðŸ˜”¯'''\n",
    "    \n",
    "    # traverse the given string and if any punctuation \n",
    "    # marks occur replace it with null \n",
    "    for x in string.lower(): \n",
    "        if x in punctuations: \n",
    "            string = string.replace(x, \"\")\n",
    "    return string\n",
    "\n",
    "def Lemmatize(string): \n",
    "    lemmatizer = WordNetLemmatizer() \n",
    "    string = string.split()\n",
    "    string = ' '.join([lemmatizer.lemmatize(w) for w in string])\n",
    "    return string\n",
    "\n",
    "def Stopwords(string): \n",
    "    string = string.split() \n",
    "    stopwords = ['i', 'me', 'my', 'myself', 'we', 'our', 'ours', 'ourselves', 'you', \"you're\", \"you've\", \"you'll\", \"you'd\", 'your', 'yours', 'yourself', 'yourselves', 'he', 'him', 'his', 'himself', 'she', \"she's\", 'her', 'hers', 'herself', 'it', \"it's\", 'its', 'itself', 'they', 'them', 'their', 'theirs', 'themselves', 'what', 'which', 'who', 'whom', 'this', 'that', \"that'll\", 'these', 'those', 'am', 'is', 'are', 'was', 'were', 'be', 'been', 'being', 'have', 'has', 'had', 'having', 'do', 'does', 'did', 'doing', 'a', 'an', 'the', 'and', 'but', 'if', 'or', 'because', 'as', 'until', 'while', 'of', 'at', 'by', 'for', 'with', 'about', 'against', 'between', 'into', 'through', 'during', 'before', 'after', 'above', 'below', 'to', 'from', 'up', 'down', 'in', 'out', 'on', 'off', 'over', 'under', 'again', 'further', 'then', 'once', 'here', 'there', 'when', 'where', 'why', 'how', 'all', 'any', 'both', 'each', 'few', 'more', 'most', 'other', 'some', 'such', 'nor', 'only', 'own', 'same', 'so', 'than', 'too', 'very', 's', 't', 'can', 'will', 'just', 'don', 'should', \"should've\", 'now', 'd', 'll', 'm', 'o', 're', 've', 'y', 'ain', 'aren', \"aren't\", 'couldn', \"couldn't\", 'didn', \"didn't\", 'doesn', \"doesn't\", 'hadn', \"hadn't\", 'hasn', \"hasn't\", 'haven', \"haven't\", 'isn', \"isn't\", 'ma', 'mightn', \"mightn't\", 'mustn', \"mustn't\", 'needn', \"needn't\", 'shan', \"shan't\", 'shouldn', \"shouldn't\", 'wasn', \"wasn't\", 'weren', \"weren't\", 'won', \"won't\", 'wouldn', \"wouldn't\"]\n",
    "    string = [w for w in string if not w in stopwords]\n",
    "    string = str(string)\n",
    "    return string"
   ]
  },
  {
   "cell_type": "markdown",
   "metadata": {},
   "source": [
    "Cleaning of data, note that I have converted the data into strings and all uppercase letters to lowercase "
   ]
  },
  {
   "cell_type": "code",
   "execution_count": 362,
   "metadata": {},
   "outputs": [],
   "source": [
    "for i in range(0, total_size):\n",
    "    total_list[i] = str(total_list[i])\n",
    "    total_list[i] = total_list[i].lower() \n",
    "    total_list[i] = Punctuation(total_list[i]) \n",
    "    total_list[i] = Stopwords(total_list[i])\n",
    "    total_list[i] = Lemmatize(total_list[i])"
   ]
  },
  {
   "cell_type": "markdown",
   "metadata": {},
   "source": [
    "Checking to ensure the data is cleaned properly "
   ]
  },
  {
   "cell_type": "code",
   "execution_count": 363,
   "metadata": {},
   "outputs": [
    {
     "data": {
      "text/html": [
       "<div>\n",
       "<style scoped>\n",
       "    .dataframe tbody tr th:only-of-type {\n",
       "        vertical-align: middle;\n",
       "    }\n",
       "\n",
       "    .dataframe tbody tr th {\n",
       "        vertical-align: top;\n",
       "    }\n",
       "\n",
       "    .dataframe thead th {\n",
       "        text-align: right;\n",
       "    }\n",
       "</style>\n",
       "<table border=\"1\" class=\"dataframe\">\n",
       "  <thead>\n",
       "    <tr style=\"text-align: right;\">\n",
       "      <th></th>\n",
       "      <th>title</th>\n",
       "    </tr>\n",
       "  </thead>\n",
       "  <tbody>\n",
       "    <tr>\n",
       "      <th>0</th>\n",
       "      <td>['would', 'obama’s', 'send', 'daughter', 'nyc'...</td>\n",
       "    </tr>\n",
       "    <tr>\n",
       "      <th>1</th>\n",
       "      <td>['tillerson', 'gets', 'first', 'briefings', 's...</td>\n",
       "    </tr>\n",
       "    <tr>\n",
       "      <th>2</th>\n",
       "      <td>['trump', 'seeks', 'campaign', 'reset', 'detro...</td>\n",
       "    </tr>\n",
       "    <tr>\n",
       "      <th>3</th>\n",
       "      <td>['russia', 'pence', 'balkans', 'comments', 'ex...</td>\n",
       "    </tr>\n",
       "    <tr>\n",
       "      <th>4</th>\n",
       "      <td>['prohillary', 'saudi', 'prince', 'gave', 'ame...</td>\n",
       "    </tr>\n",
       "  </tbody>\n",
       "</table>\n",
       "</div>"
      ],
      "text/plain": [
       "                                               title\n",
       "0  ['would', 'obama’s', 'send', 'daughter', 'nyc'...\n",
       "1  ['tillerson', 'gets', 'first', 'briefings', 's...\n",
       "2  ['trump', 'seeks', 'campaign', 'reset', 'detro...\n",
       "3  ['russia', 'pence', 'balkans', 'comments', 'ex...\n",
       "4  ['prohillary', 'saudi', 'prince', 'gave', 'ame..."
      ]
     },
     "execution_count": 363,
     "metadata": {},
     "output_type": "execute_result"
    }
   ],
   "source": [
    "check_df = pd.DataFrame(total_list, columns=['title'])\n",
    "check_df.head() "
   ]
  },
  {
   "cell_type": "markdown",
   "metadata": {},
   "source": [
    "Here I vectorize the data into a list of integers "
   ]
  },
  {
   "cell_type": "code",
   "execution_count": 364,
   "metadata": {},
   "outputs": [],
   "source": [
    "x = total_list \n",
    "\n",
    "x_train, x_test, y_train, y_test = train_test_split(x, y, test_size=0.20, shuffle=False)\n",
    "vocab_size = len(tokenizer.word_index) + 1\n",
    "\n",
    "onehot_train = [one_hot(word, vocab_size) for word in x_train]\n",
    "onehot_test = [one_hot(word, vocab_size) for word in x_test]"
   ]
  },
  {
   "cell_type": "markdown",
   "metadata": {},
   "source": [
    "Apply pad_sequences so that every sentence becomes a length of 50 and the sentences which have less than 50 will have 0's before them due to padding='pre'"
   ]
  },
  {
   "cell_type": "code",
   "execution_count": 365,
   "metadata": {},
   "outputs": [],
   "source": [
    "train_pad = pad_sequences(onehot_train, padding='pre', maxlen = 50)\n",
    "test_pad = pad_sequences(onehot_test, padding='pre', maxlen = 50)"
   ]
  },
  {
   "cell_type": "markdown",
   "metadata": {},
   "source": [
    "Using pretrained GloVe word embeddings"
   ]
  },
  {
   "cell_type": "code",
   "execution_count": 366,
   "metadata": {},
   "outputs": [],
   "source": [
    "#source: https://realpython.com/python-keras-text-classification/#what-is-a-word-embedding\n",
    "\n",
    "def create_embedding_matrix(filepath, word_index, embedding_dim):\n",
    "    vocab_size = len(word_index) + 1  # Adding again 1 because of reserved 0 index\n",
    "    embedding_matrix = np.zeros((vocab_size, embedding_dim))\n",
    "\n",
    "    with open(filepath, encoding=\"utf-8\") as f:\n",
    "        for line in f:\n",
    "            word, *vector = line.split()\n",
    "            if word in word_index:\n",
    "                idx = word_index[word] \n",
    "                embedding_matrix[idx] = np.array(\n",
    "                    vector, dtype=np.float32)[:embedding_dim]\n",
    "\n",
    "    return embedding_matrix\n",
    "\n",
    "embedding_matrix = create_embedding_matrix('glove.6B.50d.txt', tokenizer.word_index, 50)"
   ]
  },
  {
   "cell_type": "markdown",
   "metadata": {},
   "source": [
    "# Model Building"
   ]
  },
  {
   "cell_type": "markdown",
   "metadata": {},
   "source": [
    "* For the first model I am building a Convolutional Neural Network (CNN) model with word embedding of features = 50\n",
    "* GlobalMaxPool1D() extracts the maximum value from the feature map of the convolutional layer\n",
    "* Dropout(0.5) is used to avoid overfitting "
   ]
  },
  {
   "cell_type": "code",
   "execution_count": 367,
   "metadata": {},
   "outputs": [
    {
     "name": "stdout",
     "output_type": "stream",
     "text": [
      "Epoch 1/10\n",
      "197/197 [==============================] - 5s 26ms/step - loss: 0.4487 - accuracy: 0.8025 - val_loss: 0.1643 - val_accuracy: 0.9446\n",
      "Epoch 2/10\n",
      "197/197 [==============================] - 4s 22ms/step - loss: 0.2081 - accuracy: 0.9340 - val_loss: 0.1364 - val_accuracy: 0.9476\n",
      "Epoch 3/10\n",
      "197/197 [==============================] - 4s 22ms/step - loss: 0.1445 - accuracy: 0.9553 - val_loss: 0.1376 - val_accuracy: 0.9472\n",
      "Epoch 4/10\n",
      "197/197 [==============================] - 5s 24ms/step - loss: 0.1180 - accuracy: 0.9619 - val_loss: 0.1586 - val_accuracy: 0.9491\n",
      "Epoch 5/10\n",
      "197/197 [==============================] - 5s 26ms/step - loss: 0.1034 - accuracy: 0.9681 - val_loss: 0.1734 - val_accuracy: 0.9498\n",
      "Epoch 6/10\n",
      "197/197 [==============================] - 5s 23ms/step - loss: 0.0943 - accuracy: 0.9697 - val_loss: 0.1965 - val_accuracy: 0.9478\n",
      "Epoch 7/10\n",
      "197/197 [==============================] - 4s 21ms/step - loss: 0.0719 - accuracy: 0.9694 - val_loss: 0.2377 - val_accuracy: 0.9482\n",
      "Epoch 8/10\n",
      "197/197 [==============================] - 4s 20ms/step - loss: 0.0633 - accuracy: 0.9697 - val_loss: 0.2475 - val_accuracy: 0.9476\n",
      "Epoch 9/10\n",
      "197/197 [==============================] - 4s 20ms/step - loss: 0.0585 - accuracy: 0.9722 - val_loss: 0.2526 - val_accuracy: 0.9491\n",
      "Epoch 10/10\n",
      "197/197 [==============================] - 4s 19ms/step - loss: 0.0617 - accuracy: 0.9691 - val_loss: 0.2785 - val_accuracy: 0.9485\n"
     ]
    }
   ],
   "source": [
    "model = Sequential()\n",
    "\n",
    "model.add(Embedding(vocab_size, 50, weights=[embedding_matrix], input_length=50, trainable=True))\n",
    "model.add(Conv1D(filters=16, kernel_size=5, activation='relu'))\n",
    "model.add(GlobalMaxPool1D())\n",
    "model.add(Dense(8, activation='relu'))\n",
    "model.add(Dropout(0.5))\n",
    "model.add(Dense(1, activation='sigmoid'))\n",
    "model.compile(loss='binary_crossentropy', optimizer='adam', metrics=['accuracy'])\n",
    "\n",
    "history = model.fit(train_pad, y_train, epochs=10, validation_split=0.3, verbose=1, batch_size=128)"
   ]
  },
  {
   "cell_type": "markdown",
   "metadata": {},
   "source": [
    "Visualize training over time "
   ]
  },
  {
   "cell_type": "code",
   "execution_count": 368,
   "metadata": {},
   "outputs": [
    {
     "data": {
      "image/png": "[encoded data removed]",
      "text/plain": [
       "<Figure size 864x648 with 1 Axes>"
      ]
     },
     "metadata": {
      "needs_background": "light"
     },
     "output_type": "display_data"
    },
    {
     "data": {
      "image/png": "[encoded data removed]",
      "text/plain": [
       "<Figure size 864x648 with 1 Axes>"
      ]
     },
     "metadata": {
      "needs_background": "light"
     },
     "output_type": "display_data"
    }
   ],
   "source": [
    "#source: https://www.kaggle.com/utkarshxy/fake-news-detection-using-tensorflow-99/comments#Combining-the-title-with-the-text,\n",
    "\n",
    "history_dict = history.history\n",
    "\n",
    "acc = history_dict['accuracy']\n",
    "val_acc = history_dict['val_accuracy']\n",
    "loss = history_dict['loss']\n",
    "val_loss = history_dict['val_loss']\n",
    "epochs = history.epoch\n",
    "\n",
    "plt.figure(figsize=(12,9))\n",
    "plt.plot(epochs, loss, 'r', label='Training loss')\n",
    "plt.plot(epochs, val_loss, 'b', label='Validation loss')\n",
    "plt.title('Training and validation loss', size=20)\n",
    "plt.xlabel('Epochs', size=20)\n",
    "plt.ylabel('Loss', size=20)\n",
    "plt.legend(prop={'size': 20})\n",
    "plt.show()\n",
    "\n",
    "plt.figure(figsize=(12,9))\n",
    "plt.plot(epochs, acc, 'g', label='Training acc')\n",
    "plt.plot(epochs, val_acc, 'b', label='Validation acc')\n",
    "plt.title('Training and validation accuracy', size=20)\n",
    "plt.xlabel('Epochs', size=20)\n",
    "plt.ylabel('Accuracy', size=20)\n",
    "plt.legend(prop={'size': 20})\n",
    "plt.ylim((0.5,1))\n",
    "plt.show()"
   ]
  },
  {
   "cell_type": "markdown",
   "metadata": {},
   "source": [
    "Calculating Test-set's F-1 score for model 1 "
   ]
  },
  {
   "cell_type": "code",
   "execution_count": 369,
   "metadata": {},
   "outputs": [
    {
     "name": "stdout",
     "output_type": "stream",
     "text": [
      "              precision    recall  f1-score   support\n",
      "\n",
      "           0       0.94      0.95      0.94      4318\n",
      "           1       0.96      0.94      0.95      4662\n",
      "\n",
      "    accuracy                           0.95      8980\n",
      "   macro avg       0.95      0.95      0.95      8980\n",
      "weighted avg       0.95      0.95      0.95      8980\n",
      "\n"
     ]
    }
   ],
   "source": [
    "y_pred = model.predict_classes(test_pad) \n",
    "\n",
    "print(classification_report(y_test, y_pred))"
   ]
  },
  {
   "cell_type": "markdown",
   "metadata": {},
   "source": [
    "Calculating Test-set's accuracy for model 1 "
   ]
  },
  {
   "cell_type": "code",
   "execution_count": 370,
   "metadata": {},
   "outputs": [
    {
     "data": {
      "text/plain": [
       "0.946325167037862"
      ]
     },
     "execution_count": 370,
     "metadata": {},
     "output_type": "execute_result"
    }
   ],
   "source": [
    "accuracy_score(y_test,y_pred) "
   ]
  },
  {
   "cell_type": "markdown",
   "metadata": {},
   "source": [
    "* Here I am building a second LSTM model with word of embedding features = 50\n",
    "* BatchNormalization() and Dropout(0.5) are used to avoid overfitting"
   ]
  },
  {
   "cell_type": "code",
   "execution_count": 371,
   "metadata": {},
   "outputs": [
    {
     "name": "stdout",
     "output_type": "stream",
     "text": [
      "Epoch 1/10\n",
      "197/197 [==============================] - 19s 95ms/step - loss: 0.4539 - accuracy: 0.8320 - val_loss: 0.3623 - val_accuracy: 0.9346\n",
      "Epoch 2/10\n",
      "197/197 [==============================] - 18s 92ms/step - loss: 0.3206 - accuracy: 0.9563 - val_loss: 0.3241 - val_accuracy: 0.9398\n",
      "Epoch 3/10\n",
      "197/197 [==============================] - 18s 91ms/step - loss: 0.2649 - accuracy: 0.9697 - val_loss: 0.3237 - val_accuracy: 0.9385\n",
      "Epoch 4/10\n",
      "197/197 [==============================] - 18s 93ms/step - loss: 0.2293 - accuracy: 0.9755 - val_loss: 0.3161 - val_accuracy: 0.9378\n",
      "Epoch 5/10\n",
      "197/197 [==============================] - 18s 91ms/step - loss: 0.2031 - accuracy: 0.9768 - val_loss: 0.2946 - val_accuracy: 0.9368\n",
      "Epoch 6/10\n",
      "197/197 [==============================] - 19s 94ms/step - loss: 0.1827 - accuracy: 0.9780 - val_loss: 0.3064 - val_accuracy: 0.9362\n",
      "Epoch 7/10\n",
      "197/197 [==============================] - 19s 95ms/step - loss: 0.1655 - accuracy: 0.9792 - val_loss: 0.2747 - val_accuracy: 0.9379\n",
      "Epoch 8/10\n",
      "197/197 [==============================] - 19s 98ms/step - loss: 0.1502 - accuracy: 0.9801 - val_loss: 0.2572 - val_accuracy: 0.9404\n",
      "Epoch 9/10\n",
      "197/197 [==============================] - 18s 93ms/step - loss: 0.1371 - accuracy: 0.9812 - val_loss: 0.2425 - val_accuracy: 0.9391\n",
      "Epoch 10/10\n",
      "197/197 [==============================] - 20s 99ms/step - loss: 0.1271 - accuracy: 0.9816 - val_loss: 0.2666 - val_accuracy: 0.9377\n"
     ]
    }
   ],
   "source": [
    "model2 = Sequential() \n",
    "\n",
    "model2.add(Embedding(vocab_size, 50, weights=[embedding_matrix], input_length=50, trainable=True))\n",
    "model2.add(LSTM(64, return_sequences=True))\n",
    "model2.add(Dropout(0.5))\n",
    "model2.add(LSTM(32))\n",
    "model2.add(Dropout(0.5))\n",
    "model2.add(Dense(1, activation='relu'))\n",
    "model2.add(Dense(1, activation='sigmoid'))\n",
    "model2.compile(loss='binary_crossentropy', optimizer='adam', metrics=['accuracy'])\n",
    "\n",
    "history = model2.fit(train_pad, y_train, epochs=10, validation_split=0.3, verbose=1, batch_size=128)"
   ]
  },
  {
   "cell_type": "markdown",
   "metadata": {},
   "source": [
    "Visualize training over time"
   ]
  },
  {
   "cell_type": "code",
   "execution_count": 372,
   "metadata": {},
   "outputs": [
    {
     "data": {
      "image/png": "[encoded data removed]",
      "text/plain": [
       "<Figure size 864x648 with 1 Axes>"
      ]
     },
     "metadata": {
      "needs_background": "light"
     },
     "output_type": "display_data"
    },
    {
     "data": {
      "image/png": "[encoded data removed]",
      "text/plain": [
       "<Figure size 864x648 with 1 Axes>"
      ]
     },
     "metadata": {
      "needs_background": "light"
     },
     "output_type": "display_data"
    }
   ],
   "source": [
    "#source: https://www.kaggle.com/utkarshxy/fake-news-detection-using-tensorflow-99/comments#Combining-the-title-with-the-text,\n",
    "\n",
    "history_dict = history.history\n",
    "\n",
    "acc = history_dict['accuracy']\n",
    "val_acc = history_dict['val_accuracy']\n",
    "loss = history_dict['loss']\n",
    "val_loss = history_dict['val_loss']\n",
    "epochs = history.epoch\n",
    "\n",
    "plt.figure(figsize=(12,9))\n",
    "plt.plot(epochs, loss, 'r', label='Training loss')\n",
    "plt.plot(epochs, val_loss, 'b', label='Validation loss')\n",
    "plt.title('Training and validation loss', size=20)\n",
    "plt.xlabel('Epochs', size=20)\n",
    "plt.ylabel('Loss', size=20)\n",
    "plt.legend(prop={'size': 20})\n",
    "plt.show()\n",
    "\n",
    "plt.figure(figsize=(12,9))\n",
    "plt.plot(epochs, acc, 'g', label='Training acc')\n",
    "plt.plot(epochs, val_acc, 'b', label='Validation acc')\n",
    "plt.title('Training and validation accuracy', size=20)\n",
    "plt.xlabel('Epochs', size=20)\n",
    "plt.ylabel('Accuracy', size=20)\n",
    "plt.legend(prop={'size': 20})\n",
    "plt.ylim((0.5,1))\n",
    "plt.show()"
   ]
  },
  {
   "cell_type": "markdown",
   "metadata": {},
   "source": [
    "Calculating Test-set's F-1 score for model 2 "
   ]
  },
  {
   "cell_type": "code",
   "execution_count": 373,
   "metadata": {},
   "outputs": [
    {
     "name": "stdout",
     "output_type": "stream",
     "text": [
      "              precision    recall  f1-score   support\n",
      "\n",
      "           0       0.92      0.96      0.94      4318\n",
      "           1       0.96      0.92      0.94      4662\n",
      "\n",
      "    accuracy                           0.94      8980\n",
      "   macro avg       0.94      0.94      0.94      8980\n",
      "weighted avg       0.94      0.94      0.94      8980\n",
      "\n"
     ]
    }
   ],
   "source": [
    "y_pred = model2.predict_classes(test_pad)\n",
    "\n",
    "print(classification_report(y_test, y_pred))"
   ]
  },
  {
   "cell_type": "markdown",
   "metadata": {},
   "source": [
    "Calculating Test-set's accuracy for model 2 "
   ]
  },
  {
   "cell_type": "code",
   "execution_count": 374,
   "metadata": {},
   "outputs": [
    {
     "data": {
      "text/plain": [
       "0.9429844097995546"
      ]
     },
     "execution_count": 374,
     "metadata": {},
     "output_type": "execute_result"
    }
   ],
   "source": [
    "accuracy_score(y_test,y_pred) "
   ]
  },
  {
   "cell_type": "markdown",
   "metadata": {},
   "source": [
    "* Here I am building a third model, Bidirectional LSTM, the difference from LSTM being that it is able to preserve information from both past and future "
   ]
  },
  {
   "cell_type": "code",
   "execution_count": 375,
   "metadata": {},
   "outputs": [
    {
     "name": "stdout",
     "output_type": "stream",
     "text": [
      "Epoch 1/10\n",
      "197/197 [==============================] - 29s 149ms/step - loss: 0.3586 - accuracy: 0.8597 - val_loss: 0.1604 - val_accuracy: 0.9428\n",
      "Epoch 2/10\n",
      "197/197 [==============================] - 28s 140ms/step - loss: 0.1352 - accuracy: 0.9672 - val_loss: 0.1487 - val_accuracy: 0.9518\n",
      "Epoch 3/10\n",
      "197/197 [==============================] - 28s 142ms/step - loss: 0.1668 - accuracy: 0.9565 - val_loss: 0.1739 - val_accuracy: 0.9379\n",
      "Epoch 4/10\n",
      "197/197 [==============================] - 28s 143ms/step - loss: 0.0726 - accuracy: 0.9772 - val_loss: 0.2174 - val_accuracy: 0.9262\n",
      "Epoch 5/10\n",
      "197/197 [==============================] - 27s 138ms/step - loss: 0.0566 - accuracy: 0.9856 - val_loss: 0.2174 - val_accuracy: 0.9393\n",
      "Epoch 6/10\n",
      "197/197 [==============================] - 27s 139ms/step - loss: 0.0372 - accuracy: 0.9899 - val_loss: 0.2254 - val_accuracy: 0.9439\n",
      "Epoch 7/10\n",
      "197/197 [==============================] - 27s 138ms/step - loss: 0.0260 - accuracy: 0.9930 - val_loss: 0.3061 - val_accuracy: 0.9415\n",
      "Epoch 8/10\n",
      "197/197 [==============================] - 28s 142ms/step - loss: 0.0265 - accuracy: 0.9937 - val_loss: 0.3918 - val_accuracy: 0.9402\n",
      "Epoch 9/10\n",
      "197/197 [==============================] - 29s 149ms/step - loss: 0.0195 - accuracy: 0.9963 - val_loss: 0.3117 - val_accuracy: 0.9410\n",
      "Epoch 10/10\n",
      "197/197 [==============================] - 28s 141ms/step - loss: 0.0186 - accuracy: 0.9957 - val_loss: 0.3562 - val_accuracy: 0.9428\n"
     ]
    }
   ],
   "source": [
    "model3 = Sequential()\n",
    "\n",
    "model3.add(Embedding(vocab_size, 50, weights=[embedding_matrix], input_length=50, trainable=True))\n",
    "model3.add(Bidirectional(LSTM(64, return_sequences=True)))\n",
    "model3.add(Bidirectional(LSTM(32)))\n",
    "model3.add(Dense(16, activation='relu'))\n",
    "model3.add(Dropout(0.5))\n",
    "model3.add(Dense(1, activation='sigmoid'))\n",
    "model3.compile(loss='binary_crossentropy', optimizer='adam', metrics=['accuracy'])\n",
    "\n",
    "history = model3.fit(train_pad, y_train, epochs=10, validation_split=0.3, verbose=1, batch_size=128)"
   ]
  },
  {
   "cell_type": "markdown",
   "metadata": {},
   "source": [
    "Visualize training over time"
   ]
  },
  {
   "cell_type": "code",
   "execution_count": 376,
   "metadata": {},
   "outputs": [
    {
     "data": {
      "image/png": "[encoded data removed]",
      "text/plain": [
       "<Figure size 864x648 with 1 Axes>"
      ]
     },
     "metadata": {
      "needs_background": "light"
     },
     "output_type": "display_data"
    },
    {
     "data": {
      "image/png": "[encoded data removed]",
      "text/plain": [
       "<Figure size 864x648 with 1 Axes>"
      ]
     },
     "metadata": {
      "needs_background": "light"
     },
     "output_type": "display_data"
    }
   ],
   "source": [
    "#source: https://www.kaggle.com/utkarshxy/fake-news-detection-using-tensorflow-99/comments#Combining-the-title-with-the-text,\n",
    "\n",
    "history_dict = history.history\n",
    "\n",
    "acc = history_dict['accuracy']\n",
    "val_acc = history_dict['val_accuracy']\n",
    "loss = history_dict['loss']\n",
    "val_loss = history_dict['val_loss']\n",
    "epochs = history.epoch\n",
    "\n",
    "plt.figure(figsize=(12,9))\n",
    "plt.plot(epochs, loss, 'r', label='Training loss')\n",
    "plt.plot(epochs, val_loss, 'b', label='Validation loss')\n",
    "plt.title('Training and validation loss', size=20)\n",
    "plt.xlabel('Epochs', size=20)\n",
    "plt.ylabel('Loss', size=20)\n",
    "plt.legend(prop={'size': 20})\n",
    "plt.show()\n",
    "\n",
    "plt.figure(figsize=(12,9))\n",
    "plt.plot(epochs, acc, 'g', label='Training acc')\n",
    "plt.plot(epochs, val_acc, 'b', label='Validation acc')\n",
    "plt.title('Training and validation accuracy', size=20)\n",
    "plt.xlabel('Epochs', size=20)\n",
    "plt.ylabel('Accuracy', size=20)\n",
    "plt.legend(prop={'size': 20})\n",
    "plt.ylim((0.5,1))\n",
    "plt.show()"
   ]
  },
  {
   "cell_type": "markdown",
   "metadata": {},
   "source": [
    "Calculating Test-set's F-1 score for model 3"
   ]
  },
  {
   "cell_type": "code",
   "execution_count": 377,
   "metadata": {},
   "outputs": [
    {
     "name": "stdout",
     "output_type": "stream",
     "text": [
      "              precision    recall  f1-score   support\n",
      "\n",
      "           0       0.93      0.94      0.94      4318\n",
      "           1       0.95      0.93      0.94      4662\n",
      "\n",
      "    accuracy                           0.94      8980\n",
      "   macro avg       0.94      0.94      0.94      8980\n",
      "weighted avg       0.94      0.94      0.94      8980\n",
      "\n"
     ]
    }
   ],
   "source": [
    "y_pred = model3.predict_classes(test_pad)\n",
    "\n",
    "print(classification_report(y_test, y_pred))"
   ]
  },
  {
   "cell_type": "markdown",
   "metadata": {},
   "source": [
    "Calculating Test-set's accuracy for model 3"
   ]
  },
  {
   "cell_type": "code",
   "execution_count": 378,
   "metadata": {},
   "outputs": [
    {
     "data": {
      "text/plain": [
       "0.9379732739420935"
      ]
     },
     "execution_count": 378,
     "metadata": {},
     "output_type": "execute_result"
    }
   ],
   "source": [
    "accuracy_score(y_test,y_pred) "
   ]
  },
  {
   "cell_type": "markdown",
   "metadata": {},
   "source": [
    "# Summary"
   ]
  },
  {
   "cell_type": "markdown",
   "metadata": {},
   "source": [
    "I chose to train three models, a Convolutional Neural Network (CNN) Model, Long short-term memory(LSTM) and Bidirectional LSTM.\n",
    "\n",
    "* For the first model, I chose to train a CNN because it was the first model I built and also the one I am most comfortable with. It is easy to build and I have previous experience in it. CNN's can detect patterns of multiple by specifying kernel_size and thus can also be used for text classification with rather good results. \n",
    "\n",
    "* For the second model, I chose to train a LSTM because Recurrent Neural Networks (RNN) are able to deal with sequence data such as text. It can also capture meaning from the order of the words and learns from past observations. \n",
    "\n",
    "* For the third model, I trained a Bidirectional LSTM because it is able to learn from both past and future observations which could hopefully lead to higher text classification accuracy. \n",
    "\n",
    "The most preferred model would be the LSTM model because even though it has lower accuracy as compared to the CNN model, from the above visualizations, the CNN model is overfitting even after reducing the complexity of the model and including dropout. This means that while it is accurate for this test set, it is unable to generalize if a fresh test set is given to it since the test set used here came from the original training data itself. When observing the above visualizations, the LSTM model overfits much lesser than the other two models trained and has a good accuracy of 94%. Hence, I suggest LSTM as the preferred model. "
   ]
  }
 ],
 "metadata": {
  "kernelspec": {
   "display_name": "Python 3",
   "language": "python",
   "name": "python3"
  },
  "language_info": {
   "codemirror_mode": {
    "name": "ipython",
    "version": 3
   },
   "file_extension": ".py",
   "mimetype": "text/x-python",
   "name": "python",
   "nbconvert_exporter": "python",
   "pygments_lexer": "ipython3",
   "version": "3.8.8"
  }
 },
 "nbformat": 4,
 "nbformat_minor": 4
}
