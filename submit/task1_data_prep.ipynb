{
 "cells": [
  {
   "cell_type": "code",
   "execution_count": 1,
   "metadata": {},
   "outputs": [],
   "source": [
    "# if working in jupyter notebook\n",
    "# %load_ext nb_black\n",
    "# if working in jupyter lab\n",
    "# %load_ext lab_black"
   ]
  },
  {
   "cell_type": "markdown",
   "metadata": {},
   "source": [
    "# 1. Load given data into respective DataFrames"
   ]
  },
  {
   "cell_type": "code",
   "execution_count": 2,
   "metadata": {},
   "outputs": [
    {
     "name": "stdout",
     "output_type": "stream",
     "text": [
      "df_cases_200906.gzip  fake-and-real-news-dataset.zip\n",
      "df_label_200906.gzip  kaggle\n"
     ]
    }
   ],
   "source": [
    "# check that our .gzip files are present\n",
    "data_path = \"../data/\"\n",
    "!ls $data_path"
   ]
  },
  {
   "cell_type": "code",
   "execution_count": 3,
   "metadata": {},
   "outputs": [],
   "source": [
    "import pandas as pd\n",
    "import numpy as np\n",
    "\n",
    "# some pandas settings\n",
    "pd.set_option(\"display.max_colwidth\", None)\n",
    "pd.set_option(\"display.max_rows\", 1000)\n",
    "\n",
    "# specify relative paths\n",
    "cases_path = \"../data/df_cases_200906.gzip\"\n",
    "labels_path = \"../data/df_label_200906.gzip\"\n",
    "\n",
    "# load data\n",
    "cases_df = pd.read_pickle(cases_path)\n",
    "labels_df = pd.read_pickle(labels_path)"
   ]
  },
  {
   "cell_type": "markdown",
   "metadata": {},
   "source": [
    "# 2. Process data\n",
    "- filter out invalid cases\n",
    "- concatenate OcrText column for groups of contracts\n",
    "- store lists of valid and invalid file names\n",
    "**NOTE:** When you enable the `%%timeit` cellmagic in the following cell, will get an error in the next following cell so **COMMENT IT OUT** before moving on"
   ]
  },
  {
   "cell_type": "code",
   "execution_count": 4,
   "metadata": {},
   "outputs": [],
   "source": [
    "# %%timeit\n",
    "\n",
    "# get unique case ids\n",
    "case_ids = np.sort(cases_df[\"CaseId\"].unique(), kind=\"quicksort\")\n",
    "\n",
    "# use a list of lists\n",
    "valid_contract_names = []\n",
    "invalid_contract_names = []\n",
    "all_ocr_texts = []\n",
    "\n",
    "for case_id in case_ids:\n",
    "    # get sub dataframe with unique case id\n",
    "    current_df = cases_df[cases_df[\"CaseId\"] == case_id]\n",
    "\n",
    "    # store our sub lists\n",
    "    some_valid_contracts = []\n",
    "    some_invalid_contracts = []\n",
    "    merged_ocr_text = \"\"\n",
    "    # number of contracts for current CaseId\n",
    "    num_rows = current_df.shape[0]\n",
    "    count = 0\n",
    "\n",
    "    for _, row in current_df.iterrows():\n",
    "        # num_rows is number of sentences\n",
    "        if num_rows > 1:\n",
    "            if count == 0:\n",
    "                # if first string for CaseId, capitalize, replace period with spaces\n",
    "                merged_ocr_text += row[\"OcrText\"].replace(\".\", \" \").lower().capitalize()\n",
    "            elif count == num_rows - 1:\n",
    "                # if last string, don't remove period\n",
    "                merged_ocr_text += row[\"OcrText\"].lower()\n",
    "            else:\n",
    "                merged_ocr_text += row[\"OcrText\"].replace(\".\", \" \").lower()\n",
    "\n",
    "        else:\n",
    "            # same process, but for CaseId with single contracts\n",
    "            temp_str = row[\"OcrText\"].replace(\".\", \" \").lower().capitalize().strip()\n",
    "            merged_ocr_text = temp_str + \".\"\n",
    "\n",
    "        # using bitwise operation here because ...\n",
    "        # https://stackoverflow.com/questions/36921951/truth-value-of-a-series-is-ambiguous-use-a-empty-a-bool-a-item-a-any-o\n",
    "        # use line directly below if indexing directly from DataFrame object\n",
    "        # valid_case_bool = (row[\"QualityScore\"] >= 0.81) & (row[\"IsExecuted\"] == True)\n",
    "        valid_case_bool = row[\"QualityScore\"] >= 0.81 and row[\"IsExecuted\"] == True\n",
    "\n",
    "        if valid_case_bool:\n",
    "            some_valid_contracts.append(row[\"FileName\"])\n",
    "        else:\n",
    "            some_invalid_contracts.append(row[\"FileName\"])\n",
    "\n",
    "        count += 1\n",
    "\n",
    "    # remove any trailing whitespaces\n",
    "    merged_ocr_text = merged_ocr_text.strip()\n",
    "\n",
    "    # append to our list of lists\n",
    "    valid_contract_names.append(some_valid_contracts)\n",
    "    invalid_contract_names.append(some_invalid_contracts)\n",
    "    all_ocr_texts.append(merged_ocr_text)"
   ]
  },
  {
   "cell_type": "code",
   "execution_count": 5,
   "metadata": {},
   "outputs": [],
   "source": [
    "# place our data into df_final_dict\n",
    "df_final_dict = dict()\n",
    "df_final_dict[\"CaseId\"] = case_ids\n",
    "df_final_dict[\"InvalidFileNames\"] = invalid_contract_names\n",
    "df_final_dict[\"ValidFileNames\"] = valid_contract_names\n",
    "df_final_dict[\"OcrText\"] = all_ocr_texts\n",
    "\n",
    "# create df from dict\n",
    "df_final = pd.DataFrame(df_final_dict, columns=df_final_dict.keys())"
   ]
  },
  {
   "cell_type": "code",
   "execution_count": 6,
   "metadata": {},
   "outputs": [
    {
     "data": {
      "text/html": [
       "<div>\n",
       "<style scoped>\n",
       "    .dataframe tbody tr th:only-of-type {\n",
       "        vertical-align: middle;\n",
       "    }\n",
       "\n",
       "    .dataframe tbody tr th {\n",
       "        vertical-align: top;\n",
       "    }\n",
       "\n",
       "    .dataframe thead th {\n",
       "        text-align: right;\n",
       "    }\n",
       "</style>\n",
       "<table border=\"1\" class=\"dataframe\">\n",
       "  <thead>\n",
       "    <tr style=\"text-align: right;\">\n",
       "      <th></th>\n",
       "      <th>CaseId</th>\n",
       "      <th>FileName</th>\n",
       "      <th>Language</th>\n",
       "      <th>StartDate</th>\n",
       "      <th>DocumentType</th>\n",
       "      <th>IsExecuted</th>\n",
       "      <th>OcrText</th>\n",
       "      <th>QualityScore</th>\n",
       "    </tr>\n",
       "  </thead>\n",
       "  <tbody>\n",
       "    <tr>\n",
       "      <th>12</th>\n",
       "      <td>003061227721</td>\n",
       "      <td>003061227721_17508131_other documents_978-1-62420-278-0.pdf</td>\n",
       "      <td>EN</td>\n",
       "      <td>20191011</td>\n",
       "      <td>other documents</td>\n",
       "      <td>False</td>\n",
       "      <td>But could quality as foot.</td>\n",
       "      <td>0.839556</td>\n",
       "    </tr>\n",
       "    <tr>\n",
       "      <th>19</th>\n",
       "      <td>003061227721</td>\n",
       "      <td>003061227721_87102260_other documents_978-0-9792715-5-7.pdf</td>\n",
       "      <td>EN</td>\n",
       "      <td>20191011</td>\n",
       "      <td>other documents</td>\n",
       "      <td>True</td>\n",
       "      <td>Child pressure play.</td>\n",
       "      <td>0.826007</td>\n",
       "    </tr>\n",
       "    <tr>\n",
       "      <th>20</th>\n",
       "      <td>003061227721</td>\n",
       "      <td>003061227721_78410640_other documents_978-0-263-78566-1.pdf</td>\n",
       "      <td>EN</td>\n",
       "      <td>20191011</td>\n",
       "      <td>other documents</td>\n",
       "      <td>True</td>\n",
       "      <td>Simple go land north.</td>\n",
       "      <td>0.696388</td>\n",
       "    </tr>\n",
       "    <tr>\n",
       "      <th>21</th>\n",
       "      <td>003061227721</td>\n",
       "      <td>003061227721_48424585_other documents_978-1-80507-303-1.pdf</td>\n",
       "      <td>EN</td>\n",
       "      <td>20191011</td>\n",
       "      <td>other documents</td>\n",
       "      <td>True</td>\n",
       "      <td>Bill thing something level letter team.</td>\n",
       "      <td>0.634707</td>\n",
       "    </tr>\n",
       "    <tr>\n",
       "      <th>56</th>\n",
       "      <td>003061227721</td>\n",
       "      <td>003061227721_30304000_Order form_978-0-339-61324-9.pdf</td>\n",
       "      <td>EN</td>\n",
       "      <td>20191011</td>\n",
       "      <td>Order form</td>\n",
       "      <td>True</td>\n",
       "      <td>Day table as item.</td>\n",
       "      <td>0.875236</td>\n",
       "    </tr>\n",
       "    <tr>\n",
       "      <th>193</th>\n",
       "      <td>003061227721</td>\n",
       "      <td>003061227721_12522408_other documents_978-0-7727-5129-4.pdf</td>\n",
       "      <td>EN</td>\n",
       "      <td>20191011</td>\n",
       "      <td>other documents</td>\n",
       "      <td>True</td>\n",
       "      <td>Culture enough in team her clearly find.</td>\n",
       "      <td>0.857643</td>\n",
       "    </tr>\n",
       "    <tr>\n",
       "      <th>205</th>\n",
       "      <td>003061227721</td>\n",
       "      <td>003061227721_66983064_Order form_978-1-69529-544-5.pdf</td>\n",
       "      <td>EN</td>\n",
       "      <td>20191011</td>\n",
       "      <td>Order form</td>\n",
       "      <td>True</td>\n",
       "      <td>Arm several nor world international central center.</td>\n",
       "      <td>0.871345</td>\n",
       "    </tr>\n",
       "  </tbody>\n",
       "</table>\n",
       "</div>"
      ],
      "text/plain": [
       "           CaseId  \\\n",
       "12   003061227721   \n",
       "19   003061227721   \n",
       "20   003061227721   \n",
       "21   003061227721   \n",
       "56   003061227721   \n",
       "193  003061227721   \n",
       "205  003061227721   \n",
       "\n",
       "                                                        FileName Language  \\\n",
       "12   003061227721_17508131_other documents_978-1-62420-278-0.pdf       EN   \n",
       "19   003061227721_87102260_other documents_978-0-9792715-5-7.pdf       EN   \n",
       "20   003061227721_78410640_other documents_978-0-263-78566-1.pdf       EN   \n",
       "21   003061227721_48424585_other documents_978-1-80507-303-1.pdf       EN   \n",
       "56        003061227721_30304000_Order form_978-0-339-61324-9.pdf       EN   \n",
       "193  003061227721_12522408_other documents_978-0-7727-5129-4.pdf       EN   \n",
       "205       003061227721_66983064_Order form_978-1-69529-544-5.pdf       EN   \n",
       "\n",
       "    StartDate     DocumentType IsExecuted  \\\n",
       "12   20191011  other documents      False   \n",
       "19   20191011  other documents       True   \n",
       "20   20191011  other documents       True   \n",
       "21   20191011  other documents       True   \n",
       "56   20191011       Order form       True   \n",
       "193  20191011  other documents       True   \n",
       "205  20191011       Order form       True   \n",
       "\n",
       "                                                 OcrText  QualityScore  \n",
       "12                            But could quality as foot.      0.839556  \n",
       "19                                  Child pressure play.      0.826007  \n",
       "20                                 Simple go land north.      0.696388  \n",
       "21               Bill thing something level letter team.      0.634707  \n",
       "56                                    Day table as item.      0.875236  \n",
       "193             Culture enough in team her clearly find.      0.857643  \n",
       "205  Arm several nor world international central center.      0.871345  "
      ]
     },
     "execution_count": 6,
     "metadata": {},
     "output_type": "execute_result"
    }
   ],
   "source": [
    "# view a specific group of contracts\n",
    "test_case = \"003061227721\"\n",
    "cases_df[cases_df[\"CaseId\"] == test_case]"
   ]
  },
  {
   "cell_type": "code",
   "execution_count": 7,
   "metadata": {},
   "outputs": [
    {
     "data": {
      "text/html": [
       "<div>\n",
       "<style scoped>\n",
       "    .dataframe tbody tr th:only-of-type {\n",
       "        vertical-align: middle;\n",
       "    }\n",
       "\n",
       "    .dataframe tbody tr th {\n",
       "        vertical-align: top;\n",
       "    }\n",
       "\n",
       "    .dataframe thead th {\n",
       "        text-align: right;\n",
       "    }\n",
       "</style>\n",
       "<table border=\"1\" class=\"dataframe\">\n",
       "  <thead>\n",
       "    <tr style=\"text-align: right;\">\n",
       "      <th></th>\n",
       "      <th>CaseId</th>\n",
       "      <th>InvalidFileNames</th>\n",
       "      <th>ValidFileNames</th>\n",
       "      <th>OcrText</th>\n",
       "    </tr>\n",
       "  </thead>\n",
       "  <tbody>\n",
       "    <tr>\n",
       "      <th>1004</th>\n",
       "      <td>003061227721</td>\n",
       "      <td>[003061227721_17508131_other documents_978-1-62420-278-0.pdf, 003061227721_78410640_other documents_978-0-263-78566-1.pdf, 003061227721_48424585_other documents_978-1-80507-303-1.pdf]</td>\n",
       "      <td>[003061227721_87102260_other documents_978-0-9792715-5-7.pdf, 003061227721_30304000_Order form_978-0-339-61324-9.pdf, 003061227721_12522408_other documents_978-0-7727-5129-4.pdf, 003061227721_66983064_Order form_978-1-69529-544-5.pdf]</td>\n",
       "      <td>But could quality as foot child pressure play simple go land north bill thing something level letter team day table as item culture enough in team her clearly find arm several nor world international central center.</td>\n",
       "    </tr>\n",
       "  </tbody>\n",
       "</table>\n",
       "</div>"
      ],
      "text/plain": [
       "            CaseId  \\\n",
       "1004  003061227721   \n",
       "\n",
       "                                                                                                                                                                             InvalidFileNames  \\\n",
       "1004  [003061227721_17508131_other documents_978-1-62420-278-0.pdf, 003061227721_78410640_other documents_978-0-263-78566-1.pdf, 003061227721_48424585_other documents_978-1-80507-303-1.pdf]   \n",
       "\n",
       "                                                                                                                                                                                                                                  ValidFileNames  \\\n",
       "1004  [003061227721_87102260_other documents_978-0-9792715-5-7.pdf, 003061227721_30304000_Order form_978-0-339-61324-9.pdf, 003061227721_12522408_other documents_978-0-7727-5129-4.pdf, 003061227721_66983064_Order form_978-1-69529-544-5.pdf]   \n",
       "\n",
       "                                                                                                                                                                                                                      OcrText  \n",
       "1004  But could quality as foot child pressure play simple go land north bill thing something level letter team day table as item culture enough in team her clearly find arm several nor world international central center.  "
      ]
     },
     "execution_count": 7,
     "metadata": {},
     "output_type": "execute_result"
    }
   ],
   "source": [
    "# see if they've merged properly\n",
    "df_final[df_final[\"CaseId\"] == test_case]"
   ]
  },
  {
   "cell_type": "markdown",
   "metadata": {},
   "source": [
    "# 3. Merging data\n",
    "Merge `label_1` and `label_2` into `df_cases_200906.gzip`"
   ]
  },
  {
   "cell_type": "code",
   "execution_count": 8,
   "metadata": {},
   "outputs": [
    {
     "data": {
      "text/plain": [
       "False"
      ]
     },
     "execution_count": 8,
     "metadata": {},
     "output_type": "execute_result"
    }
   ],
   "source": [
    "# make sure there are no duplicates\n",
    "labels_df[\"CaseId\"].duplicated().any()"
   ]
  },
  {
   "cell_type": "code",
   "execution_count": 9,
   "metadata": {},
   "outputs": [],
   "source": [
    "# merge DataFrames (horizontal concatenation)\n",
    "df_final = pd.merge(df_final, labels_df, on=\"CaseId\")"
   ]
  },
  {
   "cell_type": "markdown",
   "metadata": {},
   "source": [
    "# 4. Final checks and write to `df_final.gzip`"
   ]
  },
  {
   "cell_type": "code",
   "execution_count": 10,
   "metadata": {},
   "outputs": [
    {
     "data": {
      "text/plain": [
       "CaseId              0\n",
       "InvalidFileNames    0\n",
       "ValidFileNames      0\n",
       "OcrText             0\n",
       "label_1             7\n",
       "label_2             7\n",
       "dtype: int64"
      ]
     },
     "execution_count": 10,
     "metadata": {},
     "output_type": "execute_result"
    }
   ],
   "source": [
    "# check for any NaN values\n",
    "df_final.isna().sum()"
   ]
  },
  {
   "cell_type": "code",
   "execution_count": 11,
   "metadata": {},
   "outputs": [
    {
     "data": {
      "text/html": [
       "<div>\n",
       "<style scoped>\n",
       "    .dataframe tbody tr th:only-of-type {\n",
       "        vertical-align: middle;\n",
       "    }\n",
       "\n",
       "    .dataframe tbody tr th {\n",
       "        vertical-align: top;\n",
       "    }\n",
       "\n",
       "    .dataframe thead th {\n",
       "        text-align: right;\n",
       "    }\n",
       "</style>\n",
       "<table border=\"1\" class=\"dataframe\">\n",
       "  <thead>\n",
       "    <tr style=\"text-align: right;\">\n",
       "      <th></th>\n",
       "      <th>CaseId</th>\n",
       "      <th>InvalidFileNames</th>\n",
       "      <th>ValidFileNames</th>\n",
       "      <th>OcrText</th>\n",
       "      <th>label_1</th>\n",
       "      <th>label_2</th>\n",
       "    </tr>\n",
       "  </thead>\n",
       "  <tbody>\n",
       "    <tr>\n",
       "      <th>407</th>\n",
       "      <td>003061201036</td>\n",
       "      <td>[]</td>\n",
       "      <td>[003061201036_95246451_Order form_978-0-617-81829-8.pdf]</td>\n",
       "      <td>Case deep idea range.</td>\n",
       "      <td>NaN</td>\n",
       "      <td>NaN</td>\n",
       "    </tr>\n",
       "    <tr>\n",
       "      <th>408</th>\n",
       "      <td>003061201079</td>\n",
       "      <td>[003061201079_50330379_Master contract_978-0-276-80757-2.pdf, 003061201079_77836809_Master contract_978-1-71729-722-8.pdf]</td>\n",
       "      <td>[]</td>\n",
       "      <td>Around agree safe camera raise probably never hundred entire culture explain court attorney.</td>\n",
       "      <td>NaN</td>\n",
       "      <td>NaN</td>\n",
       "    </tr>\n",
       "    <tr>\n",
       "      <th>413</th>\n",
       "      <td>003061201236</td>\n",
       "      <td>[]</td>\n",
       "      <td>[003061201236_49632637_Order form_978-0-399-77978-7.pdf]</td>\n",
       "      <td>Consider approach paper eye.</td>\n",
       "      <td>NaN</td>\n",
       "      <td>NaN</td>\n",
       "    </tr>\n",
       "    <tr>\n",
       "      <th>421</th>\n",
       "      <td>003061201471</td>\n",
       "      <td>[003061201471_20672492_Order form_978-0-906033-97-5.pdf, 003061201471_67072767_Amendments_978-0-576-45450-6.pdf]</td>\n",
       "      <td>[]</td>\n",
       "      <td>Scientist cut young appear direction term learn difference pick until.</td>\n",
       "      <td>NaN</td>\n",
       "      <td>NaN</td>\n",
       "    </tr>\n",
       "    <tr>\n",
       "      <th>422</th>\n",
       "      <td>003061201489</td>\n",
       "      <td>[003061201489_86382854_Order form_978-0-673-35426-6.pdf]</td>\n",
       "      <td>[003061201489_60308818_Master contract_978-0-85050-808-6.pdf, 003061201489_72679708_other documents_978-0-284-11000-8.pdf]</td>\n",
       "      <td>Skill former sure agent three democratic no everyone through claim country since glass rise next probably whatever.</td>\n",
       "      <td>NaN</td>\n",
       "      <td>NaN</td>\n",
       "    </tr>\n",
       "    <tr>\n",
       "      <th>444</th>\n",
       "      <td>003061202246</td>\n",
       "      <td>[]</td>\n",
       "      <td>[003061202246_30622555_Order form_978-1-995484-06-8.pdf]</td>\n",
       "      <td>Hundred on so others whose.</td>\n",
       "      <td>NaN</td>\n",
       "      <td>NaN</td>\n",
       "    </tr>\n",
       "    <tr>\n",
       "      <th>447</th>\n",
       "      <td>003061202306</td>\n",
       "      <td>[]</td>\n",
       "      <td>[003061202306_89917374_Order form_978-1-84570-036-2.pdf]</td>\n",
       "      <td>Leg since this nice administration.</td>\n",
       "      <td>NaN</td>\n",
       "      <td>NaN</td>\n",
       "    </tr>\n",
       "  </tbody>\n",
       "</table>\n",
       "</div>"
      ],
      "text/plain": [
       "           CaseId  \\\n",
       "407  003061201036   \n",
       "408  003061201079   \n",
       "413  003061201236   \n",
       "421  003061201471   \n",
       "422  003061201489   \n",
       "444  003061202246   \n",
       "447  003061202306   \n",
       "\n",
       "                                                                                                               InvalidFileNames  \\\n",
       "407                                                                                                                          []   \n",
       "408  [003061201079_50330379_Master contract_978-0-276-80757-2.pdf, 003061201079_77836809_Master contract_978-1-71729-722-8.pdf]   \n",
       "413                                                                                                                          []   \n",
       "421            [003061201471_20672492_Order form_978-0-906033-97-5.pdf, 003061201471_67072767_Amendments_978-0-576-45450-6.pdf]   \n",
       "422                                                                    [003061201489_86382854_Order form_978-0-673-35426-6.pdf]   \n",
       "444                                                                                                                          []   \n",
       "447                                                                                                                          []   \n",
       "\n",
       "                                                                                                                 ValidFileNames  \\\n",
       "407                                                                    [003061201036_95246451_Order form_978-0-617-81829-8.pdf]   \n",
       "408                                                                                                                          []   \n",
       "413                                                                    [003061201236_49632637_Order form_978-0-399-77978-7.pdf]   \n",
       "421                                                                                                                          []   \n",
       "422  [003061201489_60308818_Master contract_978-0-85050-808-6.pdf, 003061201489_72679708_other documents_978-0-284-11000-8.pdf]   \n",
       "444                                                                    [003061202246_30622555_Order form_978-1-995484-06-8.pdf]   \n",
       "447                                                                    [003061202306_89917374_Order form_978-1-84570-036-2.pdf]   \n",
       "\n",
       "                                                                                                                 OcrText  \\\n",
       "407                                                                                                Case deep idea range.   \n",
       "408                         Around agree safe camera raise probably never hundred entire culture explain court attorney.   \n",
       "413                                                                                         Consider approach paper eye.   \n",
       "421                                               Scientist cut young appear direction term learn difference pick until.   \n",
       "422  Skill former sure agent three democratic no everyone through claim country since glass rise next probably whatever.   \n",
       "444                                                                                          Hundred on so others whose.   \n",
       "447                                                                                  Leg since this nice administration.   \n",
       "\n",
       "    label_1 label_2  \n",
       "407     NaN     NaN  \n",
       "408     NaN     NaN  \n",
       "413     NaN     NaN  \n",
       "421     NaN     NaN  \n",
       "422     NaN     NaN  \n",
       "444     NaN     NaN  \n",
       "447     NaN     NaN  "
      ]
     },
     "execution_count": 11,
     "metadata": {},
     "output_type": "execute_result"
    }
   ],
   "source": [
    "# view rows with NaN values\n",
    "df_final.get(df_final.isna().any(axis=1))"
   ]
  },
  {
   "cell_type": "code",
   "execution_count": 12,
   "metadata": {},
   "outputs": [],
   "source": [
    "# get NaN rows indices\n",
    "# nan_indices = df_final.get(df_final.isna().any(axis=1)).index\n",
    "# # update final_df\n",
    "# df_final = df_final.drop(nan_indices)\n",
    "# df_final.isna().sum()\n",
    "\n",
    "# remove rows with NaN values\n",
    "df_final = df_final.dropna().reset_index()"
   ]
  },
  {
   "cell_type": "code",
   "execution_count": 13,
   "metadata": {},
   "outputs": [
    {
     "data": {
      "text/plain": [
       "index               0\n",
       "CaseId              0\n",
       "InvalidFileNames    0\n",
       "ValidFileNames      0\n",
       "OcrText             0\n",
       "label_1             0\n",
       "label_2             0\n",
       "dtype: int64"
      ]
     },
     "execution_count": 13,
     "metadata": {},
     "output_type": "execute_result"
    }
   ],
   "source": [
    "df_final.isna().sum()"
   ]
  },
  {
   "cell_type": "code",
   "execution_count": 14,
   "metadata": {},
   "outputs": [
    {
     "name": "stdout",
     "output_type": "stream",
     "text": [
      "/home/evan/repos/iecoe-sg-technical-interview/submit\n"
     ]
    }
   ],
   "source": [
    "# check current working directory\n",
    "!pwd\n",
    "df_final.to_pickle(\"./df_final.gzip\")"
   ]
  },
  {
   "cell_type": "code",
   "execution_count": null,
   "metadata": {},
   "outputs": [],
   "source": []
  }
 ],
 "metadata": {
  "kernelspec": {
   "display_name": "Python 3",
   "language": "python",
   "name": "python3"
  },
  "language_info": {
   "codemirror_mode": {
    "name": "ipython",
    "version": 3
   },
   "file_extension": ".py",
   "mimetype": "text/x-python",
   "name": "python",
   "nbconvert_exporter": "python",
   "pygments_lexer": "ipython3",
   "version": "3.6.12"
  }
 },
 "nbformat": 4,
 "nbformat_minor": 4
}
