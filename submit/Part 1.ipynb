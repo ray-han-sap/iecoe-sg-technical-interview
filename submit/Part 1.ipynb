{
 "metadata": {
  "language_info": {
   "codemirror_mode": {
    "name": "ipython",
    "version": 3
   },
   "file_extension": ".py",
   "mimetype": "text/x-python",
   "name": "python",
   "nbconvert_exporter": "python",
   "pygments_lexer": "ipython3",
   "version": "3.7.8-final"
  },
  "orig_nbformat": 2,
  "kernelspec": {
   "name": "python378jvsc74a57bd08527ed4405a919c58b92ad3b6fc0c30dae133b189b312c977150e5dbbc9b924a",
   "display_name": "Python 3.7.8 64-bit ('venv')"
  }
 },
 "nbformat": 4,
 "nbformat_minor": 2,
 "cells": [
  {
   "source": [
    "# Part 1: Data Preparation\n",
    "Codes executed in `submit` folder"
   ],
   "cell_type": "markdown",
   "metadata": {}
  },
  {
   "source": [
    "## Setup"
   ],
   "cell_type": "markdown",
   "metadata": {}
  },
  {
   "source": [
    "Import required libraries"
   ],
   "cell_type": "markdown",
   "metadata": {}
  },
  {
   "cell_type": "code",
   "execution_count": 1,
   "metadata": {},
   "outputs": [],
   "source": [
    "import pandas as pd\n",
    "from pathlib import Path\n",
    "from typing import Union"
   ]
  },
  {
   "source": [
    "Read in data files"
   ],
   "cell_type": "markdown",
   "metadata": {}
  },
  {
   "cell_type": "code",
   "execution_count": 2,
   "metadata": {},
   "outputs": [],
   "source": [
    "# Define directories for inputs and output\r\n",
    "DIR_CURR = Path.cwd()\r\n",
    "DIR_DATA = DIR_CURR.parent / 'data'\r\n",
    "\r\n",
    "# Read in data as Pandas DataFrame\r\n",
    "cases_df = pd.read_pickle(DIR_DATA / 'df_cases_200906.gzip')\r\n",
    "labels_df = pd.read_pickle(DIR_DATA / 'df_label_200906.gzip')"
   ]
  },
  {
   "source": [
    "## Data Exploration"
   ],
   "cell_type": "markdown",
   "metadata": {}
  },
  {
   "source": [
    "Examine top 5 rows of cases data"
   ],
   "cell_type": "markdown",
   "metadata": {}
  },
  {
   "cell_type": "code",
   "execution_count": 3,
   "metadata": {},
   "outputs": [
    {
     "output_type": "execute_result",
     "data": {
      "text/plain": [
       "         CaseId                                           FileName Language  \\\n",
       "0  003061226227  003061226227_12045631_Order form_978-1-67767-3...       EN   \n",
       "1  003061226383  003061226383_63912371_Contract Info Pack_978-0...       EN   \n",
       "2  003061226383  003061226383_41775424_other documents_978-1-38...       EN   \n",
       "3  003061227777  003061227777_96463321_other documents_978-1-96...       EN   \n",
       "4  003061227781  003061227781_62201704_other documents_978-1-04...       EN   \n",
       "\n",
       "  StartDate        DocumentType IsExecuted  \\\n",
       "0  20191104          Order form      False   \n",
       "1  20190805  Contract Info Pack      False   \n",
       "2  20190805     other documents       True   \n",
       "3  20191231     other documents      False   \n",
       "4  20191231     other documents      False   \n",
       "\n",
       "                                     OcrText  QualityScore  \n",
       "0         Pressure style response character.      0.649292  \n",
       "1  Soon especially boy thousand traditional.      0.873038  \n",
       "2  Tax south say strategy hard between late.      0.991280  \n",
       "3                        Yet arm six design.      0.607833  \n",
       "4        Plan camera actually run push rest.      0.909359  "
      ],
      "text/html": "<div>\n<style scoped>\n    .dataframe tbody tr th:only-of-type {\n        vertical-align: middle;\n    }\n\n    .dataframe tbody tr th {\n        vertical-align: top;\n    }\n\n    .dataframe thead th {\n        text-align: right;\n    }\n</style>\n<table border=\"1\" class=\"dataframe\">\n  <thead>\n    <tr style=\"text-align: right;\">\n      <th></th>\n      <th>CaseId</th>\n      <th>FileName</th>\n      <th>Language</th>\n      <th>StartDate</th>\n      <th>DocumentType</th>\n      <th>IsExecuted</th>\n      <th>OcrText</th>\n      <th>QualityScore</th>\n    </tr>\n  </thead>\n  <tbody>\n    <tr>\n      <th>0</th>\n      <td>003061226227</td>\n      <td>003061226227_12045631_Order form_978-1-67767-3...</td>\n      <td>EN</td>\n      <td>20191104</td>\n      <td>Order form</td>\n      <td>False</td>\n      <td>Pressure style response character.</td>\n      <td>0.649292</td>\n    </tr>\n    <tr>\n      <th>1</th>\n      <td>003061226383</td>\n      <td>003061226383_63912371_Contract Info Pack_978-0...</td>\n      <td>EN</td>\n      <td>20190805</td>\n      <td>Contract Info Pack</td>\n      <td>False</td>\n      <td>Soon especially boy thousand traditional.</td>\n      <td>0.873038</td>\n    </tr>\n    <tr>\n      <th>2</th>\n      <td>003061226383</td>\n      <td>003061226383_41775424_other documents_978-1-38...</td>\n      <td>EN</td>\n      <td>20190805</td>\n      <td>other documents</td>\n      <td>True</td>\n      <td>Tax south say strategy hard between late.</td>\n      <td>0.991280</td>\n    </tr>\n    <tr>\n      <th>3</th>\n      <td>003061227777</td>\n      <td>003061227777_96463321_other documents_978-1-96...</td>\n      <td>EN</td>\n      <td>20191231</td>\n      <td>other documents</td>\n      <td>False</td>\n      <td>Yet arm six design.</td>\n      <td>0.607833</td>\n    </tr>\n    <tr>\n      <th>4</th>\n      <td>003061227781</td>\n      <td>003061227781_62201704_other documents_978-1-04...</td>\n      <td>EN</td>\n      <td>20191231</td>\n      <td>other documents</td>\n      <td>False</td>\n      <td>Plan camera actually run push rest.</td>\n      <td>0.909359</td>\n    </tr>\n  </tbody>\n</table>\n</div>"
     },
     "metadata": {},
     "execution_count": 3
    }
   ],
   "source": [
    "cases_df.head()"
   ]
  },
  {
   "source": [
    "Examine data type of columns and check for missing values in cases data (No missing values for cases data)"
   ],
   "cell_type": "markdown",
   "metadata": {}
  },
  {
   "cell_type": "code",
   "execution_count": 4,
   "metadata": {},
   "outputs": [
    {
     "output_type": "stream",
     "name": "stdout",
     "text": [
      "<class 'pandas.core.frame.DataFrame'>\nInt64Index: 2069 entries, 0 to 2332\nData columns (total 8 columns):\n #   Column        Non-Null Count  Dtype  \n---  ------        --------------  -----  \n 0   CaseId        2069 non-null   object \n 1   FileName      2069 non-null   object \n 2   Language      2069 non-null   object \n 3   StartDate     2069 non-null   object \n 4   DocumentType  2069 non-null   object \n 5   IsExecuted    2069 non-null   object \n 6   OcrText       2069 non-null   object \n 7   QualityScore  2069 non-null   float64\ndtypes: float64(1), object(7)\nmemory usage: 145.5+ KB\n"
     ]
    }
   ],
   "source": [
    "cases_df.info()"
   ]
  },
  {
   "source": [
    "Check for repetitions of CaseID in cases data"
   ],
   "cell_type": "markdown",
   "metadata": {}
  },
  {
   "cell_type": "code",
   "execution_count": 5,
   "metadata": {},
   "outputs": [
    {
     "output_type": "execute_result",
     "data": {
      "text/plain": [
       "003061193920    11\n",
       "003061196422     9\n",
       "003061212307     8\n",
       "003061230613     8\n",
       "003061214084     8\n",
       "                ..\n",
       "003061207506     1\n",
       "003061189351     1\n",
       "003061190485     1\n",
       "003061209767     1\n",
       "003061203233     1\n",
       "Name: CaseId, Length: 1098, dtype: int64"
      ]
     },
     "metadata": {},
     "execution_count": 5
    }
   ],
   "source": [
    "cases_df['CaseId'].value_counts()"
   ]
  },
  {
   "source": [
    "Examine top 5 rows of labels data"
   ],
   "cell_type": "markdown",
   "metadata": {}
  },
  {
   "cell_type": "code",
   "execution_count": 6,
   "metadata": {},
   "outputs": [
    {
     "output_type": "execute_result",
     "data": {
      "text/plain": [
       "         CaseId label_1 label_2\n",
       "0  003061226227   False   False\n",
       "1  003061226383    True   False\n",
       "2  003061227777   False   False\n",
       "3  003061227781   False   False\n",
       "4  003061227680    True    True"
      ],
      "text/html": "<div>\n<style scoped>\n    .dataframe tbody tr th:only-of-type {\n        vertical-align: middle;\n    }\n\n    .dataframe tbody tr th {\n        vertical-align: top;\n    }\n\n    .dataframe thead th {\n        text-align: right;\n    }\n</style>\n<table border=\"1\" class=\"dataframe\">\n  <thead>\n    <tr style=\"text-align: right;\">\n      <th></th>\n      <th>CaseId</th>\n      <th>label_1</th>\n      <th>label_2</th>\n    </tr>\n  </thead>\n  <tbody>\n    <tr>\n      <th>0</th>\n      <td>003061226227</td>\n      <td>False</td>\n      <td>False</td>\n    </tr>\n    <tr>\n      <th>1</th>\n      <td>003061226383</td>\n      <td>True</td>\n      <td>False</td>\n    </tr>\n    <tr>\n      <th>2</th>\n      <td>003061227777</td>\n      <td>False</td>\n      <td>False</td>\n    </tr>\n    <tr>\n      <th>3</th>\n      <td>003061227781</td>\n      <td>False</td>\n      <td>False</td>\n    </tr>\n    <tr>\n      <th>4</th>\n      <td>003061227680</td>\n      <td>True</td>\n      <td>True</td>\n    </tr>\n  </tbody>\n</table>\n</div>"
     },
     "metadata": {},
     "execution_count": 6
    }
   ],
   "source": [
    "labels_df.head()"
   ]
  },
  {
   "source": [
    "Examine data type of columns and check for missing values in labels data (7 missing values for columns `label_1` and `label_2` in labels data)"
   ],
   "cell_type": "markdown",
   "metadata": {}
  },
  {
   "cell_type": "code",
   "execution_count": 7,
   "metadata": {},
   "outputs": [
    {
     "output_type": "stream",
     "name": "stdout",
     "text": [
      "<class 'pandas.core.frame.DataFrame'>\nRangeIndex: 1098 entries, 0 to 1097\nData columns (total 3 columns):\n #   Column   Non-Null Count  Dtype \n---  ------   --------------  ----- \n 0   CaseId   1098 non-null   object\n 1   label_1  1091 non-null   object\n 2   label_2  1091 non-null   object\ndtypes: object(3)\nmemory usage: 25.9+ KB\n"
     ]
    }
   ],
   "source": [
    "labels_df.info()"
   ]
  },
  {
   "source": [
    "Check for repetitions of CaseID in labels data"
   ],
   "cell_type": "markdown",
   "metadata": {}
  },
  {
   "cell_type": "code",
   "execution_count": 8,
   "metadata": {},
   "outputs": [
    {
     "output_type": "execute_result",
     "data": {
      "text/plain": [
       "003061203233    1\n",
       "003061219979    1\n",
       "003061212818    1\n",
       "003061197265    1\n",
       "003061211748    1\n",
       "               ..\n",
       "003061197280    1\n",
       "003061211816    1\n",
       "003061225585    1\n",
       "003061194017    1\n",
       "003061198565    1\n",
       "Name: CaseId, Length: 1098, dtype: int64"
      ]
     },
     "metadata": {},
     "execution_count": 8
    }
   ],
   "source": [
    "labels_df['CaseId'].value_counts()"
   ]
  },
  {
   "source": [
    "Check that all unique CaseIDs found in cases data can also be found in labels data (and vice-versa)"
   ],
   "cell_type": "markdown",
   "metadata": {}
  },
  {
   "cell_type": "code",
   "execution_count": 9,
   "metadata": {},
   "outputs": [],
   "source": [
    "assert set(cases_df['CaseId'].tolist()) == set(labels_df['CaseId'].tolist())"
   ]
  },
  {
   "source": [
    "## Data Processing"
   ],
   "cell_type": "markdown",
   "metadata": {}
  },
  {
   "source": [
    "Get unique case IDs in sorted order"
   ],
   "cell_type": "markdown",
   "metadata": {}
  },
  {
   "cell_type": "code",
   "execution_count": 10,
   "metadata": {
    "tags": []
   },
   "outputs": [],
   "source": [
    "case_ids_unique = sorted(set(cases_df['CaseId'].tolist()))"
   ]
  },
  {
   "source": [
    "Define function to convert labels to boolean or NaN (for missing values in labels data)"
   ],
   "cell_type": "markdown",
   "metadata": {}
  },
  {
   "cell_type": "code",
   "execution_count": 11,
   "metadata": {},
   "outputs": [],
   "source": [
    "def convert_label(label: Union[str, float]) -> Union[bool, float]:\n",
    "    if label == 'True':\n",
    "        return True\n",
    "    if label == 'False':\n",
    "        return False\n",
    "    # If label is NaN\n",
    "    return label"
   ]
  },
  {
   "source": [
    "Convert fields under columns `label_1` and `label_2` to boolean if there are no missing values"
   ],
   "cell_type": "markdown",
   "metadata": {}
  },
  {
   "cell_type": "code",
   "execution_count": 12,
   "metadata": {},
   "outputs": [],
   "source": [
    "labels_df['label_1'] = labels_df['label_1'].apply(convert_label)\n",
    "labels_df['label_2'] = labels_df['label_2'].apply(convert_label)"
   ]
  },
  {
   "source": [
    "Create `dict` to store case IDs, filenames for valid and invalid filenames, and OCR results for valid contracts. Then convert the resulting `dict` to a Pandas `DataFrame`."
   ],
   "cell_type": "markdown",
   "metadata": {}
  },
  {
   "cell_type": "code",
   "execution_count": 13,
   "metadata": {},
   "outputs": [],
   "source": [
    "# Initialize `output_dict`\n",
    "output_dict = {\n",
    "    'CaseId': [],\n",
    "    'ValidFileNames': [],\n",
    "    'InvalidFileNames': [],\n",
    "    'OcrText': []\n",
    "}\n",
    "\n",
    "# Slice `cases_df` to get relevant values for `output_dict`\n",
    "for case_id in case_ids_unique:\n",
    "    # Get subset of cases data for individual case ID\n",
    "    cases_subset_df = cases_df[cases_df['CaseId'] == case_id]\n",
    "    \n",
    "    # Get further subset for invalid contracts\n",
    "    # Note: Fields under `IsExecuted` column are strings rather than booleans\n",
    "    invalid_df = cases_subset_df[\n",
    "        (cases_subset_df['IsExecuted'] == 'False') |\n",
    "        (cases_subset_df['QualityScore'] < 0.81)\n",
    "    ]\n",
    "    \n",
    "    # Get subset for valid contracts\n",
    "    valid_df = cases_subset_df[\n",
    "        ~cases_subset_df.index.isin(invalid_df.index)\n",
    "    ]\n",
    "\n",
    "    # Append values accordingly in `output_dict`\n",
    "    output_dict['CaseId'].append(case_id)\n",
    "    output_dict['InvalidFileNames'].append(invalid_df['FileName'].tolist())\n",
    "    output_dict['ValidFileNames'].append(valid_df['FileName'].tolist())\n",
    "    output_dict['OcrText'].append(' '.join(valid_df['OcrText'].tolist()))\n",
    "\n",
    "# Convert resulting dict to Pandas DataFrame\n",
    "output_df = pd.DataFrame(output_dict)"
   ]
  },
  {
   "source": [
    "Use `pd.DataFrame.merge` method to add `label_1` and `label_2` values corresponding to `CaseId`"
   ],
   "cell_type": "markdown",
   "metadata": {}
  },
  {
   "cell_type": "code",
   "execution_count": 14,
   "metadata": {},
   "outputs": [],
   "source": [
    "output_df = output_df.merge(labels_df, on='CaseId')"
   ]
  },
  {
   "source": [
    "Examine top 5 rows of final output"
   ],
   "cell_type": "markdown",
   "metadata": {}
  },
  {
   "cell_type": "code",
   "execution_count": 15,
   "metadata": {},
   "outputs": [
    {
     "output_type": "execute_result",
     "data": {
      "text/plain": [
       "         CaseId                                     ValidFileNames  \\\n",
       "0  003061189006  [003061189006_69176036_Order form_978-1-62414-...   \n",
       "1  003061189067  [003061189067_26173467_Order form_978-1-904782...   \n",
       "2  003061189156  [003061189156_47966765_Contract Documents_978-...   \n",
       "3  003061189229  [003061189229_21094545_other documents_978-1-8...   \n",
       "4  003061189242                                                 []   \n",
       "\n",
       "                                    InvalidFileNames  \\\n",
       "0                                                 []   \n",
       "1                                                 []   \n",
       "2                                                 []   \n",
       "3  [003061189229_69115288_Master contract_978-0-1...   \n",
       "4  [003061189242_91658807_other documents_978-0-7...   \n",
       "\n",
       "                                            OcrText label_1 label_2  \n",
       "0            As difficult behavior her myself help.    True   False  \n",
       "1                           Present can phone form.    True   False  \n",
       "2  Section science difference success wish it wide.   False   False  \n",
       "3                    Accept sell leader herself if.   False   False  \n",
       "4                                                     False   False  "
      ],
      "text/html": "<div>\n<style scoped>\n    .dataframe tbody tr th:only-of-type {\n        vertical-align: middle;\n    }\n\n    .dataframe tbody tr th {\n        vertical-align: top;\n    }\n\n    .dataframe thead th {\n        text-align: right;\n    }\n</style>\n<table border=\"1\" class=\"dataframe\">\n  <thead>\n    <tr style=\"text-align: right;\">\n      <th></th>\n      <th>CaseId</th>\n      <th>ValidFileNames</th>\n      <th>InvalidFileNames</th>\n      <th>OcrText</th>\n      <th>label_1</th>\n      <th>label_2</th>\n    </tr>\n  </thead>\n  <tbody>\n    <tr>\n      <th>0</th>\n      <td>003061189006</td>\n      <td>[003061189006_69176036_Order form_978-1-62414-...</td>\n      <td>[]</td>\n      <td>As difficult behavior her myself help.</td>\n      <td>True</td>\n      <td>False</td>\n    </tr>\n    <tr>\n      <th>1</th>\n      <td>003061189067</td>\n      <td>[003061189067_26173467_Order form_978-1-904782...</td>\n      <td>[]</td>\n      <td>Present can phone form.</td>\n      <td>True</td>\n      <td>False</td>\n    </tr>\n    <tr>\n      <th>2</th>\n      <td>003061189156</td>\n      <td>[003061189156_47966765_Contract Documents_978-...</td>\n      <td>[]</td>\n      <td>Section science difference success wish it wide.</td>\n      <td>False</td>\n      <td>False</td>\n    </tr>\n    <tr>\n      <th>3</th>\n      <td>003061189229</td>\n      <td>[003061189229_21094545_other documents_978-1-8...</td>\n      <td>[003061189229_69115288_Master contract_978-0-1...</td>\n      <td>Accept sell leader herself if.</td>\n      <td>False</td>\n      <td>False</td>\n    </tr>\n    <tr>\n      <th>4</th>\n      <td>003061189242</td>\n      <td>[]</td>\n      <td>[003061189242_91658807_other documents_978-0-7...</td>\n      <td></td>\n      <td>False</td>\n      <td>False</td>\n    </tr>\n  </tbody>\n</table>\n</div>"
     },
     "metadata": {},
     "execution_count": 15
    }
   ],
   "source": [
    "output_df.head()"
   ]
  },
  {
   "source": [
    "Write output DataFrame to compressed pickle file"
   ],
   "cell_type": "markdown",
   "metadata": {}
  },
  {
   "cell_type": "code",
   "execution_count": 16,
   "metadata": {},
   "outputs": [],
   "source": [
    "output_df.to_pickle(DIR_CURR / 'df_final.gzip')"
   ]
  },
  {
   "cell_type": "code",
   "execution_count": null,
   "metadata": {},
   "outputs": [],
   "source": []
  }
 ]
}