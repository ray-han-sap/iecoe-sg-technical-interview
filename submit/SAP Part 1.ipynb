{
 "cells": [
  {
   "cell_type": "code",
   "execution_count": 43,
   "metadata": {},
   "outputs": [],
   "source": [
    "import pandas as pd\n",
    "import numpy as np\n",
    "import gzip\n",
    "import timeit"
   ]
  },
  {
   "cell_type": "code",
   "execution_count": 44,
   "metadata": {},
   "outputs": [],
   "source": [
    "df_cases = pd.read_pickle('df_cases_200906.gzip')"
   ]
  },
  {
   "cell_type": "code",
   "execution_count": 45,
   "metadata": {},
   "outputs": [],
   "source": [
    "df_labels = pd.read_pickle('df_label_200906.gzip')"
   ]
  },
  {
   "cell_type": "code",
   "execution_count": 46,
   "metadata": {},
   "outputs": [],
   "source": [
    "df_cases_copy = df_cases"
   ]
  },
  {
   "cell_type": "code",
   "execution_count": 47,
   "metadata": {},
   "outputs": [],
   "source": [
    "df_cases_copy_selected = df_cases_copy[['CaseId','FileName', 'IsExecuted', 'OcrText', 'QualityScore']]"
   ]
  },
  {
   "cell_type": "code",
   "execution_count": 48,
   "metadata": {},
   "outputs": [
    {
     "data": {
      "text/html": [
       "<div>\n",
       "<style scoped>\n",
       "    .dataframe tbody tr th:only-of-type {\n",
       "        vertical-align: middle;\n",
       "    }\n",
       "\n",
       "    .dataframe tbody tr th {\n",
       "        vertical-align: top;\n",
       "    }\n",
       "\n",
       "    .dataframe thead th {\n",
       "        text-align: right;\n",
       "    }\n",
       "</style>\n",
       "<table border=\"1\" class=\"dataframe\">\n",
       "  <thead>\n",
       "    <tr style=\"text-align: right;\">\n",
       "      <th></th>\n",
       "      <th>CaseId</th>\n",
       "      <th>FileName</th>\n",
       "      <th>IsExecuted</th>\n",
       "      <th>OcrText</th>\n",
       "      <th>QualityScore</th>\n",
       "    </tr>\n",
       "  </thead>\n",
       "  <tbody>\n",
       "    <tr>\n",
       "      <th>0</th>\n",
       "      <td>003061226227</td>\n",
       "      <td>003061226227_12045631_Order form_978-1-67767-3...</td>\n",
       "      <td>False</td>\n",
       "      <td>Pressure style response character.</td>\n",
       "      <td>0.649292</td>\n",
       "    </tr>\n",
       "    <tr>\n",
       "      <th>1</th>\n",
       "      <td>003061226383</td>\n",
       "      <td>003061226383_63912371_Contract Info Pack_978-0...</td>\n",
       "      <td>False</td>\n",
       "      <td>Soon especially boy thousand traditional.</td>\n",
       "      <td>0.873038</td>\n",
       "    </tr>\n",
       "    <tr>\n",
       "      <th>2</th>\n",
       "      <td>003061226383</td>\n",
       "      <td>003061226383_41775424_other documents_978-1-38...</td>\n",
       "      <td>True</td>\n",
       "      <td>Tax south say strategy hard between late.</td>\n",
       "      <td>0.991280</td>\n",
       "    </tr>\n",
       "    <tr>\n",
       "      <th>3</th>\n",
       "      <td>003061227777</td>\n",
       "      <td>003061227777_96463321_other documents_978-1-96...</td>\n",
       "      <td>False</td>\n",
       "      <td>Yet arm six design.</td>\n",
       "      <td>0.607833</td>\n",
       "    </tr>\n",
       "    <tr>\n",
       "      <th>4</th>\n",
       "      <td>003061227781</td>\n",
       "      <td>003061227781_62201704_other documents_978-1-04...</td>\n",
       "      <td>False</td>\n",
       "      <td>Plan camera actually run push rest.</td>\n",
       "      <td>0.909359</td>\n",
       "    </tr>\n",
       "  </tbody>\n",
       "</table>\n",
       "</div>"
      ],
      "text/plain": [
       "         CaseId                                           FileName IsExecuted  \\\n",
       "0  003061226227  003061226227_12045631_Order form_978-1-67767-3...      False   \n",
       "1  003061226383  003061226383_63912371_Contract Info Pack_978-0...      False   \n",
       "2  003061226383  003061226383_41775424_other documents_978-1-38...       True   \n",
       "3  003061227777  003061227777_96463321_other documents_978-1-96...      False   \n",
       "4  003061227781  003061227781_62201704_other documents_978-1-04...      False   \n",
       "\n",
       "                                     OcrText  QualityScore  \n",
       "0         Pressure style response character.      0.649292  \n",
       "1  Soon especially boy thousand traditional.      0.873038  \n",
       "2  Tax south say strategy hard between late.      0.991280  \n",
       "3                        Yet arm six design.      0.607833  \n",
       "4        Plan camera actually run push rest.      0.909359  "
      ]
     },
     "execution_count": 48,
     "metadata": {},
     "output_type": "execute_result"
    }
   ],
   "source": [
    "df_cases_copy_selected.head()"
   ]
  },
  {
   "cell_type": "code",
   "execution_count": 49,
   "metadata": {
    "scrolled": true
   },
   "outputs": [],
   "source": [
    "df_cases_copy_selected = df_cases_copy_selected.groupby('CaseId').agg({'FileName':lambda series: list(series), 'IsExecuted':lambda series: list(series), 'IsExecuted':lambda series: list(series), 'OcrText':lambda series: list(series), 'QualityScore':lambda series: list(series)})"
   ]
  },
  {
   "cell_type": "code",
   "execution_count": 50,
   "metadata": {
    "scrolled": true
   },
   "outputs": [],
   "source": [
    "df_cases_copy_selected.reset_index(inplace=True)"
   ]
  },
  {
   "cell_type": "code",
   "execution_count": 51,
   "metadata": {
    "scrolled": true
   },
   "outputs": [
    {
     "data": {
      "text/html": [
       "<div>\n",
       "<style scoped>\n",
       "    .dataframe tbody tr th:only-of-type {\n",
       "        vertical-align: middle;\n",
       "    }\n",
       "\n",
       "    .dataframe tbody tr th {\n",
       "        vertical-align: top;\n",
       "    }\n",
       "\n",
       "    .dataframe thead th {\n",
       "        text-align: right;\n",
       "    }\n",
       "</style>\n",
       "<table border=\"1\" class=\"dataframe\">\n",
       "  <thead>\n",
       "    <tr style=\"text-align: right;\">\n",
       "      <th></th>\n",
       "      <th>CaseId</th>\n",
       "      <th>FileName</th>\n",
       "      <th>IsExecuted</th>\n",
       "      <th>OcrText</th>\n",
       "      <th>QualityScore</th>\n",
       "    </tr>\n",
       "  </thead>\n",
       "  <tbody>\n",
       "    <tr>\n",
       "      <th>0</th>\n",
       "      <td>003061189006</td>\n",
       "      <td>[003061189006_69176036_Order form_978-1-62414-...</td>\n",
       "      <td>[True]</td>\n",
       "      <td>[As difficult behavior her myself help.]</td>\n",
       "      <td>[0.8552299535045276]</td>\n",
       "    </tr>\n",
       "    <tr>\n",
       "      <th>1</th>\n",
       "      <td>003061189067</td>\n",
       "      <td>[003061189067_26173467_Order form_978-1-904782...</td>\n",
       "      <td>[True]</td>\n",
       "      <td>[Present can phone form.]</td>\n",
       "      <td>[0.8490947313000836]</td>\n",
       "    </tr>\n",
       "    <tr>\n",
       "      <th>2</th>\n",
       "      <td>003061189156</td>\n",
       "      <td>[003061189156_47966765_Contract Documents_978-...</td>\n",
       "      <td>[True]</td>\n",
       "      <td>[Section science difference success wish it wi...</td>\n",
       "      <td>[0.8946672829756795]</td>\n",
       "    </tr>\n",
       "    <tr>\n",
       "      <th>3</th>\n",
       "      <td>003061189229</td>\n",
       "      <td>[003061189229_69115288_Master contract_978-0-1...</td>\n",
       "      <td>[False, True]</td>\n",
       "      <td>[Down maintain Republican., Accept sell leader...</td>\n",
       "      <td>[0.6162297231459162, 0.90518190227276]</td>\n",
       "    </tr>\n",
       "    <tr>\n",
       "      <th>4</th>\n",
       "      <td>003061189242</td>\n",
       "      <td>[003061189242_91658807_other documents_978-0-7...</td>\n",
       "      <td>[True]</td>\n",
       "      <td>[Our his understand this listen fish.]</td>\n",
       "      <td>[0.7986444559587554]</td>\n",
       "    </tr>\n",
       "  </tbody>\n",
       "</table>\n",
       "</div>"
      ],
      "text/plain": [
       "         CaseId                                           FileName  \\\n",
       "0  003061189006  [003061189006_69176036_Order form_978-1-62414-...   \n",
       "1  003061189067  [003061189067_26173467_Order form_978-1-904782...   \n",
       "2  003061189156  [003061189156_47966765_Contract Documents_978-...   \n",
       "3  003061189229  [003061189229_69115288_Master contract_978-0-1...   \n",
       "4  003061189242  [003061189242_91658807_other documents_978-0-7...   \n",
       "\n",
       "      IsExecuted                                            OcrText  \\\n",
       "0         [True]           [As difficult behavior her myself help.]   \n",
       "1         [True]                          [Present can phone form.]   \n",
       "2         [True]  [Section science difference success wish it wi...   \n",
       "3  [False, True]  [Down maintain Republican., Accept sell leader...   \n",
       "4         [True]             [Our his understand this listen fish.]   \n",
       "\n",
       "                             QualityScore  \n",
       "0                    [0.8552299535045276]  \n",
       "1                    [0.8490947313000836]  \n",
       "2                    [0.8946672829756795]  \n",
       "3  [0.6162297231459162, 0.90518190227276]  \n",
       "4                    [0.7986444559587554]  "
      ]
     },
     "execution_count": 51,
     "metadata": {},
     "output_type": "execute_result"
    }
   ],
   "source": [
    "df_cases_copy_selected.head()"
   ]
  },
  {
   "cell_type": "code",
   "execution_count": 52,
   "metadata": {
    "scrolled": true
   },
   "outputs": [],
   "source": [
    "df_cases_copy_selected['InvalidFileNames'] = np.empty((len(df_cases_copy_selected), 0)).tolist()\n",
    "df_cases_copy_selected['ValidFileNames'] = np.empty((len(df_cases_copy_selected), 0)).tolist()\n",
    "df_cases_copy_selected['OcrTextCombined'] = ''"
   ]
  },
  {
   "cell_type": "code",
   "execution_count": 53,
   "metadata": {
    "scrolled": true
   },
   "outputs": [
    {
     "data": {
      "text/html": [
       "<div>\n",
       "<style scoped>\n",
       "    .dataframe tbody tr th:only-of-type {\n",
       "        vertical-align: middle;\n",
       "    }\n",
       "\n",
       "    .dataframe tbody tr th {\n",
       "        vertical-align: top;\n",
       "    }\n",
       "\n",
       "    .dataframe thead th {\n",
       "        text-align: right;\n",
       "    }\n",
       "</style>\n",
       "<table border=\"1\" class=\"dataframe\">\n",
       "  <thead>\n",
       "    <tr style=\"text-align: right;\">\n",
       "      <th></th>\n",
       "      <th>CaseId</th>\n",
       "      <th>FileName</th>\n",
       "      <th>IsExecuted</th>\n",
       "      <th>OcrText</th>\n",
       "      <th>QualityScore</th>\n",
       "      <th>InvalidFileNames</th>\n",
       "      <th>ValidFileNames</th>\n",
       "      <th>OcrTextCombined</th>\n",
       "    </tr>\n",
       "  </thead>\n",
       "  <tbody>\n",
       "    <tr>\n",
       "      <th>0</th>\n",
       "      <td>003061189006</td>\n",
       "      <td>[003061189006_69176036_Order form_978-1-62414-...</td>\n",
       "      <td>[True]</td>\n",
       "      <td>[As difficult behavior her myself help.]</td>\n",
       "      <td>[0.8552299535045276]</td>\n",
       "      <td>[]</td>\n",
       "      <td>[]</td>\n",
       "      <td></td>\n",
       "    </tr>\n",
       "    <tr>\n",
       "      <th>1</th>\n",
       "      <td>003061189067</td>\n",
       "      <td>[003061189067_26173467_Order form_978-1-904782...</td>\n",
       "      <td>[True]</td>\n",
       "      <td>[Present can phone form.]</td>\n",
       "      <td>[0.8490947313000836]</td>\n",
       "      <td>[]</td>\n",
       "      <td>[]</td>\n",
       "      <td></td>\n",
       "    </tr>\n",
       "    <tr>\n",
       "      <th>2</th>\n",
       "      <td>003061189156</td>\n",
       "      <td>[003061189156_47966765_Contract Documents_978-...</td>\n",
       "      <td>[True]</td>\n",
       "      <td>[Section science difference success wish it wi...</td>\n",
       "      <td>[0.8946672829756795]</td>\n",
       "      <td>[]</td>\n",
       "      <td>[]</td>\n",
       "      <td></td>\n",
       "    </tr>\n",
       "    <tr>\n",
       "      <th>3</th>\n",
       "      <td>003061189229</td>\n",
       "      <td>[003061189229_69115288_Master contract_978-0-1...</td>\n",
       "      <td>[False, True]</td>\n",
       "      <td>[Down maintain Republican., Accept sell leader...</td>\n",
       "      <td>[0.6162297231459162, 0.90518190227276]</td>\n",
       "      <td>[]</td>\n",
       "      <td>[]</td>\n",
       "      <td></td>\n",
       "    </tr>\n",
       "    <tr>\n",
       "      <th>4</th>\n",
       "      <td>003061189242</td>\n",
       "      <td>[003061189242_91658807_other documents_978-0-7...</td>\n",
       "      <td>[True]</td>\n",
       "      <td>[Our his understand this listen fish.]</td>\n",
       "      <td>[0.7986444559587554]</td>\n",
       "      <td>[]</td>\n",
       "      <td>[]</td>\n",
       "      <td></td>\n",
       "    </tr>\n",
       "  </tbody>\n",
       "</table>\n",
       "</div>"
      ],
      "text/plain": [
       "         CaseId                                           FileName  \\\n",
       "0  003061189006  [003061189006_69176036_Order form_978-1-62414-...   \n",
       "1  003061189067  [003061189067_26173467_Order form_978-1-904782...   \n",
       "2  003061189156  [003061189156_47966765_Contract Documents_978-...   \n",
       "3  003061189229  [003061189229_69115288_Master contract_978-0-1...   \n",
       "4  003061189242  [003061189242_91658807_other documents_978-0-7...   \n",
       "\n",
       "      IsExecuted                                            OcrText  \\\n",
       "0         [True]           [As difficult behavior her myself help.]   \n",
       "1         [True]                          [Present can phone form.]   \n",
       "2         [True]  [Section science difference success wish it wi...   \n",
       "3  [False, True]  [Down maintain Republican., Accept sell leader...   \n",
       "4         [True]             [Our his understand this listen fish.]   \n",
       "\n",
       "                             QualityScore InvalidFileNames ValidFileNames  \\\n",
       "0                    [0.8552299535045276]               []             []   \n",
       "1                    [0.8490947313000836]               []             []   \n",
       "2                    [0.8946672829756795]               []             []   \n",
       "3  [0.6162297231459162, 0.90518190227276]               []             []   \n",
       "4                    [0.7986444559587554]               []             []   \n",
       "\n",
       "  OcrTextCombined  \n",
       "0                  \n",
       "1                  \n",
       "2                  \n",
       "3                  \n",
       "4                  "
      ]
     },
     "execution_count": 53,
     "metadata": {},
     "output_type": "execute_result"
    }
   ],
   "source": [
    "df_cases_copy_selected.head()"
   ]
  },
  {
   "cell_type": "code",
   "execution_count": 54,
   "metadata": {},
   "outputs": [],
   "source": [
    "def valid_ocr_text(x):\n",
    "    valid_ocrtext= ''\n",
    "\n",
    "    for j in range(0, len(x['IsExecuted'])):\n",
    "        if ((x['IsExecuted'][j]==False) or (x['QualityScore'][j] < 0.81)):\n",
    "            x['InvalidFileNames'].append(x['FileName'][j])\n",
    "        else:\n",
    "            x['ValidFileNames'].append(x['FileName'][j])\n",
    "            valid_ocrtext = valid_ocrtext + x['OcrText'][j]\n",
    "\n",
    "        x['OcrTextCombined'] = valid_ocrtext"
   ]
  },
  {
   "cell_type": "code",
   "execution_count": 55,
   "metadata": {
    "scrolled": true
   },
   "outputs": [
    {
     "data": {
      "text/plain": [
       "0       None\n",
       "1       None\n",
       "2       None\n",
       "3       None\n",
       "4       None\n",
       "        ... \n",
       "1093    None\n",
       "1094    None\n",
       "1095    None\n",
       "1096    None\n",
       "1097    None\n",
       "Length: 1098, dtype: object"
      ]
     },
     "execution_count": 55,
     "metadata": {},
     "output_type": "execute_result"
    }
   ],
   "source": [
    "df_cases_copy_selected.apply(lambda x: valid_ocr_text(x), axis=1)"
   ]
  },
  {
   "cell_type": "code",
   "execution_count": 64,
   "metadata": {
    "scrolled": false
   },
   "outputs": [
    {
     "data": {
      "text/html": [
       "<div>\n",
       "<style scoped>\n",
       "    .dataframe tbody tr th:only-of-type {\n",
       "        vertical-align: middle;\n",
       "    }\n",
       "\n",
       "    .dataframe tbody tr th {\n",
       "        vertical-align: top;\n",
       "    }\n",
       "\n",
       "    .dataframe thead th {\n",
       "        text-align: right;\n",
       "    }\n",
       "</style>\n",
       "<table border=\"1\" class=\"dataframe\">\n",
       "  <thead>\n",
       "    <tr style=\"text-align: right;\">\n",
       "      <th></th>\n",
       "      <th>CaseId</th>\n",
       "      <th>FileName</th>\n",
       "      <th>IsExecuted</th>\n",
       "      <th>OcrText</th>\n",
       "      <th>QualityScore</th>\n",
       "      <th>InvalidFileNames</th>\n",
       "      <th>ValidFileNames</th>\n",
       "      <th>OcrTextCombined</th>\n",
       "    </tr>\n",
       "  </thead>\n",
       "  <tbody>\n",
       "    <tr>\n",
       "      <th>0</th>\n",
       "      <td>003061189006</td>\n",
       "      <td>[003061189006_69176036_Order form_978-1-62414-...</td>\n",
       "      <td>[True]</td>\n",
       "      <td>[As difficult behavior her myself help.]</td>\n",
       "      <td>[0.8552299535045276]</td>\n",
       "      <td>[]</td>\n",
       "      <td>[003061189006_69176036_Order form_978-1-62414-...</td>\n",
       "      <td>As difficult behavior her myself help.</td>\n",
       "    </tr>\n",
       "    <tr>\n",
       "      <th>1</th>\n",
       "      <td>003061189067</td>\n",
       "      <td>[003061189067_26173467_Order form_978-1-904782...</td>\n",
       "      <td>[True]</td>\n",
       "      <td>[Present can phone form.]</td>\n",
       "      <td>[0.8490947313000836]</td>\n",
       "      <td>[]</td>\n",
       "      <td>[003061189067_26173467_Order form_978-1-904782...</td>\n",
       "      <td>Present can phone form.</td>\n",
       "    </tr>\n",
       "    <tr>\n",
       "      <th>2</th>\n",
       "      <td>003061189156</td>\n",
       "      <td>[003061189156_47966765_Contract Documents_978-...</td>\n",
       "      <td>[True]</td>\n",
       "      <td>[Section science difference success wish it wi...</td>\n",
       "      <td>[0.8946672829756795]</td>\n",
       "      <td>[]</td>\n",
       "      <td>[003061189156_47966765_Contract Documents_978-...</td>\n",
       "      <td>Section science difference success wish it wide.</td>\n",
       "    </tr>\n",
       "    <tr>\n",
       "      <th>3</th>\n",
       "      <td>003061189229</td>\n",
       "      <td>[003061189229_69115288_Master contract_978-0-1...</td>\n",
       "      <td>[False, True]</td>\n",
       "      <td>[Down maintain Republican., Accept sell leader...</td>\n",
       "      <td>[0.6162297231459162, 0.90518190227276]</td>\n",
       "      <td>[003061189229_69115288_Master contract_978-0-1...</td>\n",
       "      <td>[003061189229_21094545_other documents_978-1-8...</td>\n",
       "      <td>Accept sell leader herself if.</td>\n",
       "    </tr>\n",
       "    <tr>\n",
       "      <th>4</th>\n",
       "      <td>003061189242</td>\n",
       "      <td>[003061189242_91658807_other documents_978-0-7...</td>\n",
       "      <td>[True]</td>\n",
       "      <td>[Our his understand this listen fish.]</td>\n",
       "      <td>[0.7986444559587554]</td>\n",
       "      <td>[003061189242_91658807_other documents_978-0-7...</td>\n",
       "      <td>[]</td>\n",
       "      <td></td>\n",
       "    </tr>\n",
       "  </tbody>\n",
       "</table>\n",
       "</div>"
      ],
      "text/plain": [
       "         CaseId                                           FileName  \\\n",
       "0  003061189006  [003061189006_69176036_Order form_978-1-62414-...   \n",
       "1  003061189067  [003061189067_26173467_Order form_978-1-904782...   \n",
       "2  003061189156  [003061189156_47966765_Contract Documents_978-...   \n",
       "3  003061189229  [003061189229_69115288_Master contract_978-0-1...   \n",
       "4  003061189242  [003061189242_91658807_other documents_978-0-7...   \n",
       "\n",
       "      IsExecuted                                            OcrText  \\\n",
       "0         [True]           [As difficult behavior her myself help.]   \n",
       "1         [True]                          [Present can phone form.]   \n",
       "2         [True]  [Section science difference success wish it wi...   \n",
       "3  [False, True]  [Down maintain Republican., Accept sell leader...   \n",
       "4         [True]             [Our his understand this listen fish.]   \n",
       "\n",
       "                             QualityScore  \\\n",
       "0                    [0.8552299535045276]   \n",
       "1                    [0.8490947313000836]   \n",
       "2                    [0.8946672829756795]   \n",
       "3  [0.6162297231459162, 0.90518190227276]   \n",
       "4                    [0.7986444559587554]   \n",
       "\n",
       "                                    InvalidFileNames  \\\n",
       "0                                                 []   \n",
       "1                                                 []   \n",
       "2                                                 []   \n",
       "3  [003061189229_69115288_Master contract_978-0-1...   \n",
       "4  [003061189242_91658807_other documents_978-0-7...   \n",
       "\n",
       "                                      ValidFileNames  \\\n",
       "0  [003061189006_69176036_Order form_978-1-62414-...   \n",
       "1  [003061189067_26173467_Order form_978-1-904782...   \n",
       "2  [003061189156_47966765_Contract Documents_978-...   \n",
       "3  [003061189229_21094545_other documents_978-1-8...   \n",
       "4                                                 []   \n",
       "\n",
       "                                    OcrTextCombined  \n",
       "0            As difficult behavior her myself help.  \n",
       "1                           Present can phone form.  \n",
       "2  Section science difference success wish it wide.  \n",
       "3                    Accept sell leader herself if.  \n",
       "4                                                    "
      ]
     },
     "execution_count": 64,
     "metadata": {},
     "output_type": "execute_result"
    }
   ],
   "source": [
    "df_cases_copy_selected.head()"
   ]
  },
  {
   "cell_type": "code",
   "execution_count": 57,
   "metadata": {
    "scrolled": true
   },
   "outputs": [
    {
     "data": {
      "text/plain": [
       "['003061230710_80047544_other documents_978-1-02-279791-8.pdf',\n",
       " '003061230710_59256366_Order form_978-1-209-37083-5.pdf']"
      ]
     },
     "execution_count": 57,
     "metadata": {},
     "output_type": "execute_result"
    }
   ],
   "source": [
    "df_cases_copy_selected['InvalidFileNames'][1094]"
   ]
  },
  {
   "cell_type": "code",
   "execution_count": 58,
   "metadata": {},
   "outputs": [],
   "source": [
    "df_labels_copy = df_labels"
   ]
  },
  {
   "cell_type": "code",
   "execution_count": 59,
   "metadata": {},
   "outputs": [],
   "source": [
    "merged_inner = pd.merge(left=df_cases_copy_selected, right=df_labels_copy, left_on='CaseId', right_on='CaseId')"
   ]
  },
  {
   "cell_type": "code",
   "execution_count": 60,
   "metadata": {},
   "outputs": [],
   "source": [
    "merged_inner.drop(columns=['FileName', 'IsExecuted', 'OcrText', 'QualityScore'], inplace=True)"
   ]
  },
  {
   "cell_type": "code",
   "execution_count": 61,
   "metadata": {},
   "outputs": [],
   "source": [
    "merged_inner.rename(columns={'OcrTextCombined': 'OcrText'}, inplace=True)"
   ]
  },
  {
   "cell_type": "code",
   "execution_count": 65,
   "metadata": {
    "scrolled": true
   },
   "outputs": [
    {
     "data": {
      "text/html": [
       "<div>\n",
       "<style scoped>\n",
       "    .dataframe tbody tr th:only-of-type {\n",
       "        vertical-align: middle;\n",
       "    }\n",
       "\n",
       "    .dataframe tbody tr th {\n",
       "        vertical-align: top;\n",
       "    }\n",
       "\n",
       "    .dataframe thead th {\n",
       "        text-align: right;\n",
       "    }\n",
       "</style>\n",
       "<table border=\"1\" class=\"dataframe\">\n",
       "  <thead>\n",
       "    <tr style=\"text-align: right;\">\n",
       "      <th></th>\n",
       "      <th>CaseId</th>\n",
       "      <th>InvalidFileNames</th>\n",
       "      <th>ValidFileNames</th>\n",
       "      <th>OcrText</th>\n",
       "      <th>label_1</th>\n",
       "      <th>label_2</th>\n",
       "    </tr>\n",
       "  </thead>\n",
       "  <tbody>\n",
       "    <tr>\n",
       "      <th>0</th>\n",
       "      <td>003061189006</td>\n",
       "      <td>[]</td>\n",
       "      <td>[003061189006_69176036_Order form_978-1-62414-...</td>\n",
       "      <td>As difficult behavior her myself help.</td>\n",
       "      <td>True</td>\n",
       "      <td>False</td>\n",
       "    </tr>\n",
       "    <tr>\n",
       "      <th>1</th>\n",
       "      <td>003061189067</td>\n",
       "      <td>[]</td>\n",
       "      <td>[003061189067_26173467_Order form_978-1-904782...</td>\n",
       "      <td>Present can phone form.</td>\n",
       "      <td>True</td>\n",
       "      <td>False</td>\n",
       "    </tr>\n",
       "    <tr>\n",
       "      <th>2</th>\n",
       "      <td>003061189156</td>\n",
       "      <td>[]</td>\n",
       "      <td>[003061189156_47966765_Contract Documents_978-...</td>\n",
       "      <td>Section science difference success wish it wide.</td>\n",
       "      <td>False</td>\n",
       "      <td>False</td>\n",
       "    </tr>\n",
       "    <tr>\n",
       "      <th>3</th>\n",
       "      <td>003061189229</td>\n",
       "      <td>[003061189229_69115288_Master contract_978-0-1...</td>\n",
       "      <td>[003061189229_21094545_other documents_978-1-8...</td>\n",
       "      <td>Accept sell leader herself if.</td>\n",
       "      <td>False</td>\n",
       "      <td>False</td>\n",
       "    </tr>\n",
       "    <tr>\n",
       "      <th>4</th>\n",
       "      <td>003061189242</td>\n",
       "      <td>[003061189242_91658807_other documents_978-0-7...</td>\n",
       "      <td>[]</td>\n",
       "      <td></td>\n",
       "      <td>False</td>\n",
       "      <td>False</td>\n",
       "    </tr>\n",
       "  </tbody>\n",
       "</table>\n",
       "</div>"
      ],
      "text/plain": [
       "         CaseId                                   InvalidFileNames  \\\n",
       "0  003061189006                                                 []   \n",
       "1  003061189067                                                 []   \n",
       "2  003061189156                                                 []   \n",
       "3  003061189229  [003061189229_69115288_Master contract_978-0-1...   \n",
       "4  003061189242  [003061189242_91658807_other documents_978-0-7...   \n",
       "\n",
       "                                      ValidFileNames  \\\n",
       "0  [003061189006_69176036_Order form_978-1-62414-...   \n",
       "1  [003061189067_26173467_Order form_978-1-904782...   \n",
       "2  [003061189156_47966765_Contract Documents_978-...   \n",
       "3  [003061189229_21094545_other documents_978-1-8...   \n",
       "4                                                 []   \n",
       "\n",
       "                                            OcrText label_1 label_2  \n",
       "0            As difficult behavior her myself help.    True   False  \n",
       "1                           Present can phone form.    True   False  \n",
       "2  Section science difference success wish it wide.   False   False  \n",
       "3                    Accept sell leader herself if.   False   False  \n",
       "4                                                     False   False  "
      ]
     },
     "execution_count": 65,
     "metadata": {},
     "output_type": "execute_result"
    }
   ],
   "source": [
    "merged_inner.head()"
   ]
  },
  {
   "cell_type": "code",
   "execution_count": 63,
   "metadata": {},
   "outputs": [
    {
     "data": {
      "text/plain": [
       "['003061230710_80047544_other documents_978-1-02-279791-8.pdf',\n",
       " '003061230710_59256366_Order form_978-1-209-37083-5.pdf']"
      ]
     },
     "execution_count": 63,
     "metadata": {},
     "output_type": "execute_result"
    }
   ],
   "source": [
    "merged_inner['InvalidFileNames'][1094]"
   ]
  },
  {
   "cell_type": "code",
   "execution_count": 66,
   "metadata": {},
   "outputs": [],
   "source": [
    "merged_inner.to_csv(\"df_final.gzip\", index=False, compression=\"gzip\")"
   ]
  }
 ],
 "metadata": {
  "kernelspec": {
   "display_name": "Python 3",
   "language": "python",
   "name": "python3"
  },
  "language_info": {
   "codemirror_mode": {
    "name": "ipython",
    "version": 3
   },
   "file_extension": ".py",
   "mimetype": "text/x-python",
   "name": "python",
   "nbconvert_exporter": "python",
   "pygments_lexer": "ipython3",
   "version": "3.7.3"
  }
 },
 "nbformat": 4,
 "nbformat_minor": 2
}
